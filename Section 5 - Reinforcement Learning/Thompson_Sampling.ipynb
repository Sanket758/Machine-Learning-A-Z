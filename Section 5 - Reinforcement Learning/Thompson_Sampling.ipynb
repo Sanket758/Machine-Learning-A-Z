{
  "nbformat": 4,
  "nbformat_minor": 0,
  "metadata": {
    "colab": {
      "name": "Thompson_Sampling.ipynb",
      "provenance": [],
      "collapsed_sections": []
    },
    "kernelspec": {
      "name": "python3",
      "display_name": "Python 3"
    }
  },
  "cells": [
    {
      "cell_type": "markdown",
      "metadata": {
        "id": "ANaH8-gNIymn"
      },
      "source": [
        "# Problem statement:  \n",
        "The marketing team has prepared 10 different ads, and we have collected a dataset of Click Through Rates of all those ads. Looking at the dataset we have to find, which ad has the most probability of click rate."
      ]
    },
    {
      "cell_type": "markdown",
      "metadata": {
        "id": "efYI7wH0QFEl"
      },
      "source": [
        "# Import Libraries"
      ]
    },
    {
      "cell_type": "code",
      "metadata": {
        "id": "oqC49owhQEbx"
      },
      "source": [
        "import numpy as np\n",
        "import pandas as pd\n",
        "import matplotlib.pyplot as plt"
      ],
      "execution_count": 2,
      "outputs": []
    },
    {
      "cell_type": "markdown",
      "metadata": {
        "id": "0ZajlnyNRAp0"
      },
      "source": [
        "# Load Dataset"
      ]
    },
    {
      "cell_type": "code",
      "metadata": {
        "id": "tFB9KtB79LIK"
      },
      "source": [
        "df = pd.read_csv('/content/Ads_CTR_Optimisation.csv')"
      ],
      "execution_count": 3,
      "outputs": []
    },
    {
      "cell_type": "markdown",
      "metadata": {
        "id": "A6MjoAQJRCw8"
      },
      "source": [
        "# Thompson Sampling Algorithm"
      ]
    },
    {
      "cell_type": "code",
      "metadata": {
        "id": "x0LIQQrrQTGy"
      },
      "source": [
        "# Creating variables\n",
        "N = 10000 # Total number of users to show ads to\n",
        "d = 10 # number of ads\n",
        "\n",
        "selected_ads = [] # list of selected ads, will start empty\n",
        "\n",
        "Ni_0 = [0] * d # number of times ad i has reward 0\n",
        "Ni_1 = [0] * d # number of times ad i has reward 1\n",
        "\n",
        "total_rewards = 0 # total rewards"
      ],
      "execution_count": 25,
      "outputs": []
    },
    {
      "cell_type": "code",
      "metadata": {
        "id": "W82YEADRTJTK"
      },
      "source": [
        "import math, random\n",
        "\n",
        "for n in range(0, N): # iterate through all users\n",
        "    ad = 0 \n",
        "    max_theta = 0\n",
        "    for i in range(0, d): # iterate through all \n",
        "        \n",
        "        '''\n",
        "            random.betavariate(alpha, beta) \n",
        "            Beta distribution.  Conditions on the parameters are alpha > 0 \n",
        "            and beta > 0. Returned values range between 0 and 1.\n",
        "            \n",
        "            Returns a random float number between 0 and 1 based on the \n",
        "            Beta distribution (used in statistics)\n",
        "        ''' \n",
        "        random_theta = random.betavariate(Ni_1[i]+1, Ni_0[i]+1)\n",
        "\n",
        "        if random_theta > max_theta:\n",
        "            max_theta = random_theta\n",
        "            ad = i\n",
        "    \n",
        "    selected_ads.append(ad) # append the ad with max_upper_bound to the list\n",
        "    reward = df.values[n,ad] # get the reward from df for the selected ad\n",
        "\n",
        "    # if reward is 0, the update Ni_0 else update Ni_1\n",
        "    if reward==0:\n",
        "        Ni_0[ad]+=1 \n",
        "    else:\n",
        "        Ni_1[ad]+=1  \n",
        "\n",
        "    total_rewards += reward # add this reward to total reward"
      ],
      "execution_count": 26,
      "outputs": []
    },
    {
      "cell_type": "code",
      "metadata": {
        "colab": {
          "base_uri": "https://localhost:8080/",
          "height": 295
        },
        "id": "HNWZ2hO0mwGP",
        "outputId": "b6045f41-bb7e-43f1-b0b1-fb5267c925a6"
      },
      "source": [
        "plt.hist(selected_ads)\n",
        "plt.title('Histogram of ads selections')\n",
        "plt.xlabel('Ads')\n",
        "plt.ylabel('Number of time each ads selected')\n",
        "plt.show(); "
      ],
      "execution_count": 27,
      "outputs": [
        {
          "output_type": "display_data",
          "data": {
            "image/png": "[encoded data removed]",
            "text/plain": [
              "<Figure size 432x288 with 1 Axes>"
            ]
          },
          "metadata": {
            "tags": [],
            "needs_background": "light"
          }
        }
      ]
    },
    {
      "cell_type": "markdown",
      "metadata": {
        "id": "Y2qr-ZAU0IS7"
      },
      "source": [
        "Clearly, Thompson Sampling is better than UCB"
      ]
    }
  ]
}