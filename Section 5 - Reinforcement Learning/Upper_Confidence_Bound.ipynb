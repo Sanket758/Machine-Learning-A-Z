{
  "nbformat": 4,
  "nbformat_minor": 0,
  "metadata": {
    "colab": {
      "name": "Upper_Confidence_Bound.ipynb",
      "provenance": [],
      "collapsed_sections": []
    },
    "kernelspec": {
      "name": "python3",
      "display_name": "Python 3"
    }
  },
  "cells": [
    {
      "cell_type": "markdown",
      "metadata": {
        "id": "ANaH8-gNIymn"
      },
      "source": [
        "# Problem statement:  \n",
        "The marketing team has prepared 10 different ads, and we have collected a dataset of Click Through Rates of all those ads. Looking at the dataset we have to find, which ad has the most probability of click rate."
      ]
    },
    {
      "cell_type": "markdown",
      "metadata": {
        "id": "efYI7wH0QFEl"
      },
      "source": [
        "# Import Libraries"
      ]
    },
    {
      "cell_type": "code",
      "metadata": {
        "id": "oqC49owhQEbx"
      },
      "source": [
        "import numpy as np\n",
        "import pandas as pd\n",
        "import matplotlib.pyplot as plt"
      ],
      "execution_count": 4,
      "outputs": []
    },
    {
      "cell_type": "markdown",
      "metadata": {
        "id": "0ZajlnyNRAp0"
      },
      "source": [
        "# Load Dataset"
      ]
    },
    {
      "cell_type": "code",
      "metadata": {
        "id": "tFB9KtB79LIK"
      },
      "source": [
        "df = pd.read_csv('/content/Ads_CTR_Optimisation.csv')"
      ],
      "execution_count": 5,
      "outputs": []
    },
    {
      "cell_type": "markdown",
      "metadata": {
        "id": "A6MjoAQJRCw8"
      },
      "source": [
        "# Upper Confidence Bound Algorithm"
      ]
    },
    {
      "cell_type": "code",
      "metadata": {
        "id": "x0LIQQrrQTGy"
      },
      "source": [
        "# Creating variables\n",
        "N = 1000 # Total number of users to show ads to\n",
        "d = 10 # number of ads\n",
        "\n",
        "selected_ads = [] # list of selected ads, will start empty\n",
        "\n",
        "Ni = [0] * d # number of times ad i was selected upto N iteration\n",
        "Ri = [0] * d # the sum of rewards of the ad i upto iteration\n",
        "\n",
        "total_rewards = 0 # total rewards"
      ],
      "execution_count": 11,
      "outputs": []
    },
    {
      "cell_type": "code",
      "metadata": {
        "id": "W82YEADRTJTK"
      },
      "source": [
        "import math\n",
        "for n in range(0, N): # iterate through all users\n",
        "    ad = 0 \n",
        "    max_upper_bound = 0\n",
        "    for i in range(0, d): # iterate through all ads\n",
        "        if Ni[i] == 0:\n",
        "            upper_bound = 1e500 #if its the first ad set a high value\n",
        "        else:\n",
        "            average_reward = Ri[i] / Ni[i] # calculate average reward\n",
        "\n",
        "            # now calculate confidence interval delta\n",
        "            conf_interval = math.sqrt( (3/2) * (math.log(n+1) / Ni[i])) \n",
        "\n",
        "            upper_bound = average_reward + conf_interval\n",
        "\n",
        "        if upper_bound > max_upper_bound:\n",
        "            max_upper_bound = upper_bound\n",
        "            ad = i\n",
        "    \n",
        "    selected_ads.append(ad) # append the ad with max_upper_bound to the list\n",
        "    Ni[ad] += 1 # increase the number of times given ad was selected\n",
        "    reward = df.values[n,ad] # get the reward from df for the selected ad\n",
        "    Ri[ad] += reward # add the reward to sum of rewards\n",
        "    total_rewards += reward # add this reward to total reward"
      ],
      "execution_count": 12,
      "outputs": []
    },
    {
      "cell_type": "code",
      "metadata": {
        "colab": {
          "base_uri": "https://localhost:8080/",
          "height": 295
        },
        "id": "HNWZ2hO0mwGP",
        "outputId": "0c412fe7-c3d6-48c8-ec84-4e7d89d95cd3"
      },
      "source": [
        "plt.hist(selected_ads)\n",
        "plt.title('Histogram of ads selections')\n",
        "plt.xlabel('Ads')\n",
        "plt.ylabel('Number of time each ads selected')\n",
        "plt.show(); "
      ],
      "execution_count": 13,
      "outputs": [
        {
          "output_type": "display_data",
          "data": {
            "image/png": "[encoded data removed]",
            "text/plain": [
              "<Figure size 432x288 with 1 Axes>"
            ]
          },
          "metadata": {
            "tags": [],
            "needs_background": "light"
          }
        }
      ]
    }
  ]
}