{
  "nbformat": 4,
  "nbformat_minor": 0,
  "metadata": {
    "colab": {
      "name": "3 Polynomial Linear Regression.ipynb",
      "provenance": [],
      "collapsed_sections": []
    },
    "kernelspec": {
      "name": "python3",
      "display_name": "Python 3"
    },
    "accelerator": "GPU"
  },
  "cells": [
    {
      "cell_type": "markdown",
      "metadata": {
        "id": "XjT9FDECRErn"
      },
      "source": [
        "# Importing Libraries"
      ]
    },
    {
      "cell_type": "code",
      "metadata": {
        "id": "nnXyYEvDOh4P"
      },
      "source": [
        "import numpy as np\n",
        "import matplotlib.pyplot as plt\n",
        "import pandas as pd"
      ],
      "execution_count": 1,
      "outputs": []
    },
    {
      "cell_type": "markdown",
      "metadata": {
        "id": "-cJqJF_V3Ohh"
      },
      "source": [
        "# Importing Dataset"
      ]
    },
    {
      "cell_type": "code",
      "metadata": {
        "colab": {
          "base_uri": "https://localhost:8080/"
        },
        "id": "ZghTGCyxRIwU",
        "outputId": "dccf530a-8b17-4f93-bd1e-975d02163218"
      },
      "source": [
        "dataset = pd.read_csv('/content/Position_Salaries.csv') # Read the csv contatining data\n",
        "X = dataset.iloc[:,1:-1].values # Getting 2nd column\n",
        "y = dataset.iloc[:,-1].values # getting last\n",
        "X.shape, y.shape #printing the shape"
      ],
      "execution_count": 4,
      "outputs": [
        {
          "output_type": "execute_result",
          "data": {
            "text/plain": [
              "((10, 1), (10,))"
            ]
          },
          "metadata": {
            "tags": []
          },
          "execution_count": 4
        }
      ]
    },
    {
      "cell_type": "markdown",
      "metadata": {
        "id": "HE3q4b-LRlL6"
      },
      "source": [
        "# Training Linear Regression model on the dataset"
      ]
    },
    {
      "cell_type": "code",
      "metadata": {
        "colab": {
          "base_uri": "https://localhost:8080/"
        },
        "id": "9Wa6R9d6Ri9b",
        "outputId": "26314424-cb3c-4665-f793-4ec5703360e3"
      },
      "source": [
        "# import the linear regression library from scikit-learn\n",
        "from sklearn.linear_model import LinearRegression\n",
        "\n",
        "# creating lr model\n",
        "Linregressor = LinearRegression() \n",
        "\n",
        "# fit the lr model\n",
        "Linregressor.fit(X, y)"
      ],
      "execution_count": 5,
      "outputs": [
        {
          "output_type": "execute_result",
          "data": {
            "text/plain": [
              "LinearRegression(copy_X=True, fit_intercept=True, n_jobs=None, normalize=False)"
            ]
          },
          "metadata": {
            "tags": []
          },
          "execution_count": 5
        }
      ]
    },
    {
      "cell_type": "markdown",
      "metadata": {
        "id": "hqSHM3EL46RE"
      },
      "source": [
        "# Training Polynomial regression model on the dataset"
      ]
    },
    {
      "cell_type": "code",
      "metadata": {
        "colab": {
          "base_uri": "https://localhost:8080/"
        },
        "id": "MIVTzoqR5EhZ",
        "outputId": "6d2076e3-50d2-41ce-f465-48f0101b9cba"
      },
      "source": [
        "# import the PolynomialFeatures library from scikit-learn\n",
        "from sklearn.preprocessing import PolynomialFeatures\n",
        "\n",
        "# Creating our polynomial features and store them in X_poly\n",
        "polyfeats = PolynomialFeatures(degree=4) #degree specifies the order \n",
        "# Store the polynomial features in X_poly\n",
        "X_poly = polyfeats.fit_transform(X)\n",
        "\n",
        "\n",
        "# import the linear regression library from scikit-learn\n",
        "from sklearn.linear_model import LinearRegression\n",
        "\n",
        "# creating lr model\n",
        "Linregressor2 = LinearRegression() \n",
        "\n",
        "# fit the lr model on polynomial features X_poly not the actual X\n",
        "Linregressor2.fit(X_poly, y)"
      ],
      "execution_count": 12,
      "outputs": [
        {
          "output_type": "execute_result",
          "data": {
            "text/plain": [
              "LinearRegression(copy_X=True, fit_intercept=True, n_jobs=None, normalize=False)"
            ]
          },
          "metadata": {
            "tags": []
          },
          "execution_count": 12
        }
      ]
    },
    {
      "cell_type": "markdown",
      "metadata": {
        "id": "bwybWLFT6oKa"
      },
      "source": [
        "# Visualizing the Linear Regression results"
      ]
    },
    {
      "cell_type": "code",
      "metadata": {
        "id": "x9rUodUBxznZ",
        "colab": {
          "base_uri": "https://localhost:8080/",
          "height": 295
        },
        "outputId": "221c860b-25ff-49bb-e518-7e56a066c48b"
      },
      "source": [
        "plt.scatter(X, y, color = 'red') # Creating a scatter of actual points\n",
        "plt.plot(X, Linregressor.predict(X), color = 'blue') # creating a line plot\n",
        "plt.title('Linear regression')\n",
        "plt.xlabel('Position level')\n",
        "plt.ylabel('Salary')\n",
        "plt.show();"
      ],
      "execution_count": 13,
      "outputs": [
        {
          "output_type": "display_data",
          "data": {
            "image/png": "[encoded data removed]",
            "text/plain": [
              "<Figure size 432x288 with 1 Axes>"
            ]
          },
          "metadata": {
            "tags": [],
            "needs_background": "light"
          }
        }
      ]
    },
    {
      "cell_type": "markdown",
      "metadata": {
        "id": "KJsSe0um7ia4"
      },
      "source": [
        "# Visualizing the Polynomial Regression results"
      ]
    },
    {
      "cell_type": "code",
      "metadata": {
        "colab": {
          "base_uri": "https://localhost:8080/",
          "height": 295
        },
        "id": "A1Qxh_zE7e-G",
        "outputId": "fdb34604-43c6-4ec1-b9c2-28c1a5e357e5"
      },
      "source": [
        "plt.scatter(X, y, color = 'red')\n",
        "plt.plot(X, Linregressor2.predict(X_poly), color = 'blue')\n",
        "plt.title('Polynomial regression')\n",
        "plt.xlabel('Position level')\n",
        "plt.ylabel('Salary')\n",
        "plt.show();"
      ],
      "execution_count": 14,
      "outputs": [
        {
          "output_type": "display_data",
          "data": {
            "image/png": "[encoded data removed]",
            "text/plain": [
              "<Figure size 432x288 with 1 Axes>"
            ]
          },
          "metadata": {
            "tags": [],
            "needs_background": "light"
          }
        }
      ]
    },
    {
      "cell_type": "markdown",
      "metadata": {
        "id": "SG_EHWYg9PU5"
      },
      "source": [
        "# Predicting new result with linear regression\n",
        "\n"
      ]
    },
    {
      "cell_type": "code",
      "metadata": {
        "colab": {
          "base_uri": "https://localhost:8080/"
        },
        "id": "bhftJqYz7q79",
        "outputId": "cf59257a-ecd4-4ab8-e495-f2437c54f48d"
      },
      "source": [
        "Linregressor.predict([[6.5]]) #predict using lr"
      ],
      "execution_count": 15,
      "outputs": [
        {
          "output_type": "execute_result",
          "data": {
            "text/plain": [
              "array([330378.78787879])"
            ]
          },
          "metadata": {
            "tags": []
          },
          "execution_count": 15
        }
      ]
    },
    {
      "cell_type": "markdown",
      "metadata": {
        "id": "3ufhVnj19Xw1"
      },
      "source": [
        "# Predicting new result with polynomial regression\n",
        "\n"
      ]
    },
    {
      "cell_type": "code",
      "metadata": {
        "colab": {
          "base_uri": "https://localhost:8080/"
        },
        "id": "CizVuTee9eun",
        "outputId": "489590cc-acf3-4bd6-b62b-7d02b7100136"
      },
      "source": [
        "Linregressor2.predict(polyfeats.fit_transform([[6.5]])) #predict using pr"
      ],
      "execution_count": 21,
      "outputs": [
        {
          "output_type": "execute_result",
          "data": {
            "text/plain": [
              "array([158862.45265155])"
            ]
          },
          "metadata": {
            "tags": []
          },
          "execution_count": 21
        }
      ]
    }
  ]
}