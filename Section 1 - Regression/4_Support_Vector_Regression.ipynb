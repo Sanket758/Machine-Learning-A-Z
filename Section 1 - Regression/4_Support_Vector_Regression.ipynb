{
  "nbformat": 4,
  "nbformat_minor": 0,
  "metadata": {
    "colab": {
      "name": "4_Support_Vector_Regression.ipynb",
      "provenance": [],
      "collapsed_sections": []
    },
    "kernelspec": {
      "name": "python3",
      "display_name": "Python 3"
    }
  },
  "cells": [
    {
      "cell_type": "markdown",
      "metadata": {
        "id": "C00bjJueDsMR"
      },
      "source": [
        "# Importing the libraries"
      ]
    },
    {
      "cell_type": "code",
      "metadata": {
        "id": "qSjEGCtcDxGQ"
      },
      "source": [
        "import pandas as pd\n",
        "import numpy as np\n",
        "import matplotlib.pyplot as plt"
      ],
      "execution_count": 2,
      "outputs": []
    },
    {
      "cell_type": "markdown",
      "metadata": {
        "id": "0CWAs6wSDaqV"
      },
      "source": [
        "#Importing the dataset"
      ]
    },
    {
      "cell_type": "code",
      "metadata": {
        "colab": {
          "base_uri": "https://localhost:8080/"
        },
        "id": "fHWOLQ1Rgx4n",
        "outputId": "6b9dcc5c-cc16-438d-d0af-70d38e7f1cad"
      },
      "source": [
        "dataset = pd.read_csv('/content/Position_Salaries.csv') # Read the csv contatining data\n",
        "X = dataset.iloc[:,1:-1].values # Getting 2nd column\n",
        "y = dataset.iloc[:,-1].values # getting last\n",
        "X.shape, y.shape #printing the shape"
      ],
      "execution_count": 3,
      "outputs": [
        {
          "output_type": "execute_result",
          "data": {
            "text/plain": [
              "((10, 1), (10,))"
            ]
          },
          "metadata": {
            "tags": []
          },
          "execution_count": 3
        }
      ]
    },
    {
      "cell_type": "code",
      "metadata": {
        "colab": {
          "base_uri": "https://localhost:8080/"
        },
        "id": "q1ObBSWRGQ4y",
        "outputId": "0bb9c215-b174-4c12-ea82-7065135f244c"
      },
      "source": [
        "y = y.reshape(-1, 1)\n",
        "y"
      ],
      "execution_count": 4,
      "outputs": [
        {
          "output_type": "execute_result",
          "data": {
            "text/plain": [
              "array([[  45000],\n",
              "       [  50000],\n",
              "       [  60000],\n",
              "       [  80000],\n",
              "       [ 110000],\n",
              "       [ 150000],\n",
              "       [ 200000],\n",
              "       [ 300000],\n",
              "       [ 500000],\n",
              "       [1000000]])"
            ]
          },
          "metadata": {
            "tags": []
          },
          "execution_count": 4
        }
      ]
    },
    {
      "cell_type": "markdown",
      "metadata": {
        "id": "NVsqOZk3Fw0S"
      },
      "source": [
        "# Feature Scaling"
      ]
    },
    {
      "cell_type": "code",
      "metadata": {
        "id": "qghlTBdNE3UU"
      },
      "source": [
        "from sklearn.preprocessing import StandardScaler\n",
        "sc = StandardScaler() # for independent variables\n",
        "sc2 = StandardScaler() # for dependent variable\n",
        "x = sc.fit_transform(X) # Scale input values\n",
        "y = sc2.fit_transform(y) # scale output values"
      ],
      "execution_count": 5,
      "outputs": []
    },
    {
      "cell_type": "code",
      "metadata": {
        "colab": {
          "base_uri": "https://localhost:8080/"
        },
        "id": "3F-ouR9UHOnR",
        "outputId": "1673c04c-0b0d-46f1-a15b-665a64536ad4"
      },
      "source": [
        "print(x)"
      ],
      "execution_count": 6,
      "outputs": [
        {
          "output_type": "stream",
          "text": [
            "[[-1.5666989 ]\n",
            " [-1.21854359]\n",
            " [-0.87038828]\n",
            " [-0.52223297]\n",
            " [-0.17407766]\n",
            " [ 0.17407766]\n",
            " [ 0.52223297]\n",
            " [ 0.87038828]\n",
            " [ 1.21854359]\n",
            " [ 1.5666989 ]]\n"
          ],
          "name": "stdout"
        }
      ]
    },
    {
      "cell_type": "code",
      "metadata": {
        "colab": {
          "base_uri": "https://localhost:8080/"
        },
        "id": "JUy4qz3HHTbL",
        "outputId": "5e4deee3-2beb-4b37-b6c4-c4b75134b2f7"
      },
      "source": [
        "print(y)"
      ],
      "execution_count": 7,
      "outputs": [
        {
          "output_type": "stream",
          "text": [
            "[[-0.72004253]\n",
            " [-0.70243757]\n",
            " [-0.66722767]\n",
            " [-0.59680786]\n",
            " [-0.49117815]\n",
            " [-0.35033854]\n",
            " [-0.17428902]\n",
            " [ 0.17781001]\n",
            " [ 0.88200808]\n",
            " [ 2.64250325]]\n"
          ],
          "name": "stdout"
        }
      ]
    },
    {
      "cell_type": "markdown",
      "metadata": {
        "id": "3y0O5GcbsJ3O"
      },
      "source": [
        "# Training the SVR model on the whole dataset"
      ]
    },
    {
      "cell_type": "code",
      "metadata": {
        "id": "4FfAY1CrHY-J",
        "colab": {
          "base_uri": "https://localhost:8080/"
        },
        "outputId": "4c23d84c-4e93-4bdb-9ce8-a33769608996"
      },
      "source": [
        "from sklearn.svm import SVR #import support vector regression\n",
        "\n",
        "#read more here: https://data-flair.training/blogs/svm-kernel-functions/\n",
        "regressor = SVR(kernel = 'rbf') \n",
        "\n",
        "#fit the regressor\n",
        "regressor.fit(x,y)"
      ],
      "execution_count": 8,
      "outputs": [
        {
          "output_type": "stream",
          "text": [
            "/usr/local/lib/python3.6/dist-packages/sklearn/utils/validation.py:760: DataConversionWarning: A column-vector y was passed when a 1d array was expected. Please change the shape of y to (n_samples, ), for example using ravel().\n",
            "  y = column_or_1d(y, warn=True)\n"
          ],
          "name": "stderr"
        },
        {
          "output_type": "execute_result",
          "data": {
            "text/plain": [
              "SVR(C=1.0, cache_size=200, coef0=0.0, degree=3, epsilon=0.1, gamma='scale',\n",
              "    kernel='rbf', max_iter=-1, shrinking=True, tol=0.001, verbose=False)"
            ]
          },
          "metadata": {
            "tags": []
          },
          "execution_count": 8
        }
      ]
    },
    {
      "cell_type": "markdown",
      "metadata": {
        "id": "m3frrzo0tT9T"
      },
      "source": [
        "# Predict a new result"
      ]
    },
    {
      "cell_type": "code",
      "metadata": {
        "id": "vusZ-msqtOik"
      },
      "source": [
        "prediction = regressor.predict(sc.transform([[6.5]])) # predicting on the scaled object"
      ],
      "execution_count": 11,
      "outputs": []
    },
    {
      "cell_type": "code",
      "metadata": {
        "colab": {
          "base_uri": "https://localhost:8080/"
        },
        "id": "dpuXe9kWty-5",
        "outputId": "194a8cf1-775b-46d0-da30-27c990b8b444"
      },
      "source": [
        "# DO the inverse transform on prediction\n",
        "sc2.inverse_transform(prediction)"
      ],
      "execution_count": 12,
      "outputs": [
        {
          "output_type": "execute_result",
          "data": {
            "text/plain": [
              "array([170370.0204065])"
            ]
          },
          "metadata": {
            "tags": []
          },
          "execution_count": 12
        }
      ]
    },
    {
      "cell_type": "markdown",
      "metadata": {
        "id": "97bzfrQhvGcE"
      },
      "source": [
        "# Visualizing the SVR results"
      ]
    },
    {
      "cell_type": "code",
      "metadata": {
        "colab": {
          "base_uri": "https://localhost:8080/",
          "height": 295
        },
        "id": "f81LSTGVugQR",
        "outputId": "3f4da280-b945-4a65-922a-950a6a5a6939"
      },
      "source": [
        "plt.scatter(sc.inverse_transform(x), sc2.inverse_transform(y), color = 'red')\n",
        "plt.plot(sc.inverse_transform(x), sc2.inverse_transform(regressor.predict(x)), color = 'blue')\n",
        "plt.title('Support vector regression')\n",
        "plt.xlabel('Position level')\n",
        "plt.ylabel('Salary')\n",
        "plt.show();"
      ],
      "execution_count": 26,
      "outputs": [
        {
          "output_type": "display_data",
          "data": {
            "image/png": "[encoded data removed]",
            "text/plain": [
              "<Figure size 432x288 with 1 Axes>"
            ]
          },
          "metadata": {
            "tags": [],
            "needs_background": "light"
          }
        }
      ]
    },
    {
      "cell_type": "code",
      "metadata": {
        "colab": {
          "base_uri": "https://localhost:8080/",
          "height": 295
        },
        "id": "RL0WmLqzvog-",
        "outputId": "434963d6-b287-4d47-ca8e-eaf48d06f8e4"
      },
      "source": [
        "X_grid = np.arange(min(sc.inverse_transform(x)),\n",
        "                   max(sc.inverse_transform(x)), 0.1)\n",
        "X_grid = X_grid.reshape(len(X_grid), 1)\n",
        "plt.scatter(sc.inverse_transform(x), sc2.inverse_transform(y), color = 'red')\n",
        "\n",
        "plt.plot(X_grid,\n",
        "         sc2.inverse_transform(regressor.predict(sc.transform(X_grid))), \n",
        "         color = 'blue')\n",
        "\n",
        "plt.title('Support vector regression')\n",
        "plt.xlabel('Position level')\n",
        "plt.ylabel('Salary')\n",
        "plt.show();"
      ],
      "execution_count": 32,
      "outputs": [
        {
          "output_type": "display_data",
          "data": {
            "image/png": "[encoded data removed]",
            "text/plain": [
              "<Figure size 432x288 with 1 Axes>"
            ]
          },
          "metadata": {
            "tags": [],
            "needs_background": "light"
          }
        }
      ]
    },
    {
      "cell_type": "markdown",
      "metadata": {
        "id": "oVW7KLrRzv_5"
      },
      "source": [
        "Support vector machines tends to less overfit, resulting in better performance than polynomial regression."
      ]
    }
  ]
}