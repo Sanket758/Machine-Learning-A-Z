{
  "nbformat": 4,
  "nbformat_minor": 0,
  "metadata": {
    "colab": {
      "name": "6_Random_Forest_Regression.ipynb",
      "provenance": []
    },
    "kernelspec": {
      "name": "python3",
      "display_name": "Python 3"
    }
  },
  "cells": [
    {
      "cell_type": "markdown",
      "metadata": {
        "id": "GdFSAevV7sHV"
      },
      "source": [
        "# Random Forest Regression"
      ]
    },
    {
      "cell_type": "markdown",
      "metadata": {
        "id": "vbHrCgyN7xQp"
      },
      "source": [
        "#Importing the libraries"
      ]
    },
    {
      "cell_type": "code",
      "metadata": {
        "id": "DtbS9C9S1ali"
      },
      "source": [
        "import pandas as pd\n",
        "import numpy as np\n",
        "import matplotlib.pyplot as plt"
      ],
      "execution_count": 1,
      "outputs": []
    },
    {
      "cell_type": "markdown",
      "metadata": {
        "id": "oODfIkOV79D4"
      },
      "source": [
        "# Importing the dataset"
      ]
    },
    {
      "cell_type": "code",
      "metadata": {
        "colab": {
          "base_uri": "https://localhost:8080/"
        },
        "id": "AQkdJoyP77jO",
        "outputId": "e56bb614-5924-42ce-f69f-94528763a37d"
      },
      "source": [
        "# Read the csv contatining data\n",
        "dataset = pd.read_csv('/content/Position_Salaries.csv') \n",
        "X = dataset.iloc[:,1:-1].values # Getting 2nd column\n",
        "y = dataset.iloc[:,-1].values # getting last\n",
        "X.shape, y.shape #printing the shape"
      ],
      "execution_count": 2,
      "outputs": [
        {
          "output_type": "execute_result",
          "data": {
            "text/plain": [
              "((10, 1), (10,))"
            ]
          },
          "metadata": {
            "tags": []
          },
          "execution_count": 2
        }
      ]
    },
    {
      "cell_type": "markdown",
      "metadata": {
        "id": "qmOdBpSU85MU"
      },
      "source": [
        "*Note: Feature scaling isn't required for tree based algorithm"
      ]
    },
    {
      "cell_type": "markdown",
      "metadata": {
        "id": "0zZvvawg81Iv"
      },
      "source": [
        "# Training the Random Forest Regression Model"
      ]
    },
    {
      "cell_type": "code",
      "metadata": {
        "colab": {
          "base_uri": "https://localhost:8080/"
        },
        "id": "ZNfsOk-7841J",
        "outputId": "4c5b9167-2b5c-48b4-d629-b6466c067a3a"
      },
      "source": [
        "# Import decision tree class from Sklearn\n",
        "from sklearn.ensemble import RandomForestRegressor\n",
        "\n",
        "# Create a regressor object\n",
        "regressor = RandomForestRegressor(10)\n",
        "\n",
        "#Fit the regressor\n",
        "regressor.fit(X,y)"
      ],
      "execution_count": 3,
      "outputs": [
        {
          "output_type": "execute_result",
          "data": {
            "text/plain": [
              "RandomForestRegressor(bootstrap=True, ccp_alpha=0.0, criterion='mse',\n",
              "                      max_depth=None, max_features='auto', max_leaf_nodes=None,\n",
              "                      max_samples=None, min_impurity_decrease=0.0,\n",
              "                      min_impurity_split=None, min_samples_leaf=1,\n",
              "                      min_samples_split=2, min_weight_fraction_leaf=0.0,\n",
              "                      n_estimators=10, n_jobs=None, oob_score=False,\n",
              "                      random_state=None, verbose=0, warm_start=False)"
            ]
          },
          "metadata": {
            "tags": []
          },
          "execution_count": 3
        }
      ]
    },
    {
      "cell_type": "markdown",
      "metadata": {
        "id": "bGBdyg6U9dFD"
      },
      "source": [
        "# Getting predictions"
      ]
    },
    {
      "cell_type": "code",
      "metadata": {
        "colab": {
          "base_uri": "https://localhost:8080/"
        },
        "id": "hgBsf4ZJ9bnZ",
        "outputId": "9bb61bac-6c38-4619-da10-a592d743e529"
      },
      "source": [
        "preds = regressor.predict([[6.5]]) # pass 2d vector \n",
        "print(preds)"
      ],
      "execution_count": 4,
      "outputs": [
        {
          "output_type": "stream",
          "text": [
            "[156000.]\n"
          ],
          "name": "stdout"
        }
      ]
    }
  ]
}