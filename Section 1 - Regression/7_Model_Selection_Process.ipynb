{
  "nbformat": 4,
  "nbformat_minor": 0,
  "metadata": {
    "colab": {
      "name": "7_Model_Selection Process.ipynb",
      "provenance": [],
      "collapsed_sections": []
    },
    "kernelspec": {
      "name": "python3",
      "display_name": "Python 3"
    }
  },
  "cells": [
    {
      "cell_type": "markdown",
      "metadata": {
        "id": "r3cas2_1T98w"
      },
      "source": [
        "# Model Selection Process"
      ]
    },
    {
      "cell_type": "markdown",
      "metadata": {
        "id": "IODliia6U1xO"
      },
      "source": [
        "## Importing the libraries"
      ]
    },
    {
      "cell_type": "code",
      "metadata": {
        "id": "y98nA5UdU6Hf"
      },
      "source": [
        "import numpy as np\n",
        "import matplotlib.pyplot as plt\n",
        "import pandas as pd"
      ],
      "execution_count": 23,
      "outputs": []
    },
    {
      "cell_type": "markdown",
      "metadata": {
        "id": "jpjZ43YlU8eI"
      },
      "source": [
        "## Importing the dataset"
      ]
    },
    {
      "cell_type": "code",
      "metadata": {
        "id": "pLVaXoYVU_Uy"
      },
      "source": [
        "# dataset = pd.read_csv('ENTER_THE_NAME_OF_YOUR_DATASET_HERE.csv')\n",
        "dataset = pd.read_csv('Data.csv')\n",
        "X = dataset.iloc[:, :-1].values\n",
        "y = dataset.iloc[:, -1].values"
      ],
      "execution_count": 24,
      "outputs": []
    },
    {
      "cell_type": "markdown",
      "metadata": {
        "id": "tPJXMyyUJbWn"
      },
      "source": [
        "## Splitting the dataset into the Training set and Test set"
      ]
    },
    {
      "cell_type": "code",
      "metadata": {
        "id": "rFOzpjaiJd5B"
      },
      "source": [
        "from sklearn.model_selection import train_test_split\n",
        "X_train, X_test, y_train, y_test = train_test_split(X, y, test_size = 0.2, random_state = 0)"
      ],
      "execution_count": 25,
      "outputs": []
    },
    {
      "cell_type": "markdown",
      "metadata": {
        "id": "g16qFkFQVC35"
      },
      "source": [
        "# Training all Regression models on the Training set and measuring R2 values"
      ]
    },
    {
      "cell_type": "markdown",
      "metadata": {
        "id": "8LHsiJmd08to"
      },
      "source": [
        "## Linear Regression"
      ]
    },
    {
      "cell_type": "code",
      "metadata": {
        "colab": {
          "base_uri": "https://localhost:8080/"
        },
        "id": "29_XcHr6ytKa",
        "outputId": "71eae3ff-5128-4ee2-bdc8-4699c1fe98f5"
      },
      "source": [
        "from sklearn.linear_model import LinearRegression\n",
        "regressor = LinearRegression()\n",
        "regressor.fit(X_train, y_train)\n",
        "\n",
        "# Getting Prediction\n",
        "y_pred = regressor.predict(X_test)\n",
        "np.set_printoptions(precision=2)\n",
        "print(np.concatenate((y_pred.reshape(len(y_pred),1), y_test.reshape(len(y_test),1)),1))\n",
        "\n",
        "# Evaluating Model Performance\n",
        "from sklearn.metrics import r2_score\n",
        "Linear_R2 = r2_score(y_test, y_pred)\n",
        "print(\"\\nLinear reg R2 score:\",r2_score(y_test, y_pred))"
      ],
      "execution_count": 26,
      "outputs": [
        {
          "output_type": "stream",
          "text": [
            "[[431.43 431.23]\n",
            " [458.56 460.01]\n",
            " [462.75 461.14]\n",
            " ...\n",
            " [469.52 473.26]\n",
            " [442.42 438.  ]\n",
            " [461.88 463.28]]\n",
            "\n",
            "Linear reg R2 score: 0.9325315554761302\n"
          ],
          "name": "stdout"
        }
      ]
    },
    {
      "cell_type": "markdown",
      "metadata": {
        "id": "clebZTqf2C6m"
      },
      "source": [
        "## Polynomial Regression"
      ]
    },
    {
      "cell_type": "code",
      "metadata": {
        "colab": {
          "base_uri": "https://localhost:8080/"
        },
        "id": "P98ck4vR1Dko",
        "outputId": "368b7390-5413-452e-cdec-6fb2e7321132"
      },
      "source": [
        "# import the PolynomialFeatures library from scikit-learn\n",
        "from sklearn.preprocessing import PolynomialFeatures\n",
        "\n",
        "# Creating our polynomial features and store them in X_poly\n",
        "polyfeats = PolynomialFeatures(degree=4) #degree specifies the order \n",
        "# Store the polynomial features in X_poly\n",
        "X_poly = polyfeats.fit_transform(X_train)\n",
        "\n",
        "\n",
        "# import the linear regression library from scikit-learn\n",
        "from sklearn.linear_model import LinearRegression\n",
        "\n",
        "# creating lr model\n",
        "Linregressor2 = LinearRegression() \n",
        "\n",
        "# fit the lr model on polynomial features X_poly not the actual X\n",
        "Linregressor2.fit(X_poly, y_train)\n",
        "\n",
        "# Getting Prediction\n",
        "y_pred = Linregressor2.predict(polyfeats.transform(X_test))\n",
        "np.set_printoptions(precision=2)\n",
        "print(np.concatenate((y_pred.reshape(len(y_pred),1), y_test.reshape(len(y_test),1)),1))\n",
        "\n",
        "# Evaluating Model Performance\n",
        "from sklearn.metrics import r2_score\n",
        "Poly_R2 = r2_score(y_test, y_pred)\n",
        "print(\"\\nPolynomial reg R2 score:\",r2_score(y_test, y_pred))"
      ],
      "execution_count": 27,
      "outputs": [
        {
          "output_type": "stream",
          "text": [
            "[[433.94 431.23]\n",
            " [457.9  460.01]\n",
            " [460.52 461.14]\n",
            " ...\n",
            " [469.53 473.26]\n",
            " [438.27 438.  ]\n",
            " [461.66 463.28]]\n",
            "\n",
            "Polynomial reg R2 score: 0.9458192606428147\n"
          ],
          "name": "stdout"
        }
      ]
    },
    {
      "cell_type": "markdown",
      "metadata": {
        "id": "zgTYU2oY2GPp"
      },
      "source": [
        "## Support Vector Machine\n",
        "\n",
        "*Note: SVR needs addition feature scaling process, in order to perform regression."
      ]
    },
    {
      "cell_type": "code",
      "metadata": {
        "id": "4EUxgTbe2F-V"
      },
      "source": [
        "from sklearn.model_selection import train_test_split\n",
        "X_train, X_test, y_train, y_test = train_test_split(X, y, test_size = 0.2, random_state = 0)\n",
        "\n",
        "# Feature Scaling Process\n",
        "from sklearn.preprocessing import StandardScaler\n",
        "sc = StandardScaler() # for independent variables\n",
        "sc2 = StandardScaler() # for dependent variable\n",
        "X_train = sc.fit_transform(X_train) # Scale input values\n",
        "y_train = y_train.reshape(len(y_train), 1)\n",
        "y_train = sc2.fit_transform(y_train) # scale output values"
      ],
      "execution_count": 28,
      "outputs": []
    },
    {
      "cell_type": "code",
      "metadata": {
        "colab": {
          "base_uri": "https://localhost:8080/"
        },
        "id": "dZM-sWnh2BDt",
        "outputId": "a5340343-8584-4958-e027-6ac76803c7ee"
      },
      "source": [
        "#import support vector regression\n",
        "from sklearn.svm import SVR \n",
        "#read more here: https://data-flair.training/blogs/svm-kernel-functions/\n",
        "support_reg = SVR(kernel = 'rbf') \n",
        "\n",
        "#fit the regressor\n",
        "support_reg.fit(X_train,y_train)\n",
        "\n",
        "# Getting Prediction\n",
        "y_pred = sc2.inverse_transform(support_reg.predict(sc.transform(X_test)))\n",
        "np.set_printoptions(precision=2)\n",
        "print(np.concatenate((y_pred.reshape(len(y_pred),1), y_test.reshape(len(y_test),1)),1))\n",
        "\n",
        "# Evaluating Model Performance\n",
        "from sklearn.metrics import r2_score\n",
        "SVR_R2 = r2_score(y_test, y_pred)\n",
        "print(\"\\nSupport vector reg R2 score:\",r2_score(y_test, y_pred))"
      ],
      "execution_count": 29,
      "outputs": [
        {
          "output_type": "stream",
          "text": [
            "/usr/local/lib/python3.6/dist-packages/sklearn/utils/validation.py:760: DataConversionWarning: A column-vector y was passed when a 1d array was expected. Please change the shape of y to (n_samples, ), for example using ravel().\n",
            "  y = column_or_1d(y, warn=True)\n"
          ],
          "name": "stderr"
        },
        {
          "output_type": "stream",
          "text": [
            "[[434.05 431.23]\n",
            " [457.94 460.01]\n",
            " [461.03 461.14]\n",
            " ...\n",
            " [470.6  473.26]\n",
            " [439.42 438.  ]\n",
            " [460.92 463.28]]\n",
            "\n",
            "Support vector reg R2 score: 0.9480784049986258\n"
          ],
          "name": "stdout"
        }
      ]
    },
    {
      "cell_type": "markdown",
      "metadata": {
        "id": "0kTjwABn5HVZ"
      },
      "source": [
        "## Decision Tree"
      ]
    },
    {
      "cell_type": "code",
      "metadata": {
        "id": "SLDKyv1SVUqS",
        "colab": {
          "base_uri": "https://localhost:8080/"
        },
        "outputId": "fffea044-8198-4873-bf01-f10478fd88f3"
      },
      "source": [
        "from sklearn.model_selection import train_test_split\n",
        "X_train, X_test, y_train, y_test = train_test_split(X, y, test_size = 0.2, random_state = 0)\n",
        "\n",
        "from sklearn.tree import DecisionTreeRegressor\n",
        "regressor = DecisionTreeRegressor(random_state = 0)\n",
        "regressor.fit(X_train, y_train)\n",
        "\n",
        "# Getting Prediction\n",
        "y_pred = regressor.predict(X_test)\n",
        "np.set_printoptions(precision=2)\n",
        "print(np.concatenate((y_pred.reshape(len(y_pred),1), y_test.reshape(len(y_test),1)),1))\n",
        "\n",
        "# Evaluating Model Performance\n",
        "from sklearn.metrics import r2_score\n",
        "Dec_tree_R2 = r2_score(y_test, y_pred)\n",
        "print(\"\\nDecision Tree reg R2 score:\",r2_score(y_test, y_pred))"
      ],
      "execution_count": 30,
      "outputs": [
        {
          "output_type": "stream",
          "text": [
            "[[431.28 431.23]\n",
            " [462.81 460.01]\n",
            " [460.06 461.14]\n",
            " ...\n",
            " [471.46 473.26]\n",
            " [437.76 438.  ]\n",
            " [462.55 463.28]]\n",
            "\n",
            "Decision Tree reg R2 score: 0.9226091050550043\n"
          ],
          "name": "stdout"
        }
      ]
    },
    {
      "cell_type": "markdown",
      "metadata": {
        "id": "ztpXLsF45Q78"
      },
      "source": [
        "## Random Forest "
      ]
    },
    {
      "cell_type": "code",
      "metadata": {
        "id": "_G2QS1UoIsTZ",
        "colab": {
          "base_uri": "https://localhost:8080/"
        },
        "outputId": "74373b6c-50b0-4e0f-e512-0ac5db1018f6"
      },
      "source": [
        "from sklearn.model_selection import train_test_split\n",
        "X_train, X_test, y_train, y_test = train_test_split(X, y, test_size = 0.2, random_state = 0)\n",
        "\n",
        "from sklearn.ensemble import RandomForestRegressor\n",
        "regressor = RandomForestRegressor(n_estimators=10)\n",
        "regressor.fit(X_train, y_train)\n",
        "\n",
        "# Getting Prediction\n",
        "y_pred = regressor.predict(X_test)\n",
        "np.set_printoptions(precision=2)\n",
        "print(np.concatenate((y_pred.reshape(len(y_pred),1), y_test.reshape(len(y_test),1)),1))\n",
        "\n",
        "# Evaluating Model Performance\n",
        "from sklearn.metrics import r2_score\n",
        "Random_forest_R2 = r2_score(y_test, y_pred)\n",
        "print(\"\\nRandom forest reg R2 score:\",r2_score(y_test, y_pred))"
      ],
      "execution_count": 31,
      "outputs": [
        {
          "output_type": "stream",
          "text": [
            "[[434.44 431.23]\n",
            " [456.31 460.01]\n",
            " [463.72 461.14]\n",
            " ...\n",
            " [469.58 473.26]\n",
            " [439.76 438.  ]\n",
            " [461.6  463.28]]\n",
            "\n",
            "Random forest reg R2 score: 0.9611835323992642\n"
          ],
          "name": "stdout"
        }
      ]
    },
    {
      "cell_type": "markdown",
      "metadata": {
        "id": "MiNZnaJm6oj4"
      },
      "source": [
        "# So, Which Model to select? Let's see..."
      ]
    },
    {
      "cell_type": "code",
      "metadata": {
        "colab": {
          "base_uri": "https://localhost:8080/"
        },
        "id": "SLnL5G366hTQ",
        "outputId": "639938ed-d458-4af5-c42c-d8611e1d3ae8"
      },
      "source": [
        "print(\"Linear reg R2 score:\",Linear_R2)\n",
        "print(\"Polynomial reg R2 score:\",Poly_R2)\n",
        "print(\"Support vector reg R2 score:\",SVR_R2)\n",
        "print(\"Decision Tree reg R2 score:\",Dec_tree_R2)\n",
        "print(\"Random forest reg R2 score:\",Random_forest_R2)"
      ],
      "execution_count": 32,
      "outputs": [
        {
          "output_type": "stream",
          "text": [
            "Linear reg R2 score: 0.9325315554761302\n",
            "Polynomial reg R2 score: 0.9458192606428147\n",
            "Support vector reg R2 score: 0.9480784049986258\n",
            "Decision Tree reg R2 score: 0.9226091050550043\n",
            "Random forest reg R2 score: 0.9611835323992642\n"
          ],
          "name": "stdout"
        }
      ]
    },
    {
      "cell_type": "markdown",
      "metadata": {
        "id": "A2FGgPlK6C49"
      },
      "source": [
        "Using random forest, we are getting the best r2 score, so after trying all of the models on this dataset, we can conclude that Random forest is the best model \"for this dataset\"."
      ]
    }
  ]
}