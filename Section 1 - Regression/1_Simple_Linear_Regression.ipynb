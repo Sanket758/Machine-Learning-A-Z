{
  "nbformat": 4,
  "nbformat_minor": 0,
  "metadata": {
    "colab": {
      "name": "1-Simple Linear Regression.ipynb",
      "provenance": []
    },
    "kernelspec": {
      "name": "python3",
      "display_name": "Python 3"
    }
  },
  "cells": [
    {
      "cell_type": "markdown",
      "metadata": {
        "id": "-Y08__bv9CGe"
      },
      "source": [
        "# Importing the libraries "
      ]
    },
    {
      "cell_type": "code",
      "metadata": {
        "id": "3WBQXWzb7FVF"
      },
      "source": [
        "import numpy as np\n",
        "import matplotlib.pyplot as plt\n",
        "import pandas as pd"
      ],
      "execution_count": null,
      "outputs": []
    },
    {
      "cell_type": "markdown",
      "metadata": {
        "id": "b97dhbA69jq4"
      },
      "source": [
        "# Load Dataset"
      ]
    },
    {
      "cell_type": "code",
      "metadata": {
        "colab": {
          "base_uri": "https://localhost:8080/"
        },
        "id": "JKSWw3I49gX9",
        "outputId": "daae04e0-a7a7-4498-b44d-5c3e2e8761fd"
      },
      "source": [
        "dataset = pd.read_csv('Salary_Data.csv') # Read the csv contatining data\n",
        "X = dataset.iloc[:,:-1].values # Getting all columns except target col\n",
        "y = dataset.iloc[:,-1].values # getting target col\n",
        "X.shape, y.shape #printing the shape"
      ],
      "execution_count": null,
      "outputs": [
        {
          "output_type": "execute_result",
          "data": {
            "text/plain": [
              "((30, 1), (30,))"
            ]
          },
          "metadata": {
            "tags": []
          },
          "execution_count": 3
        }
      ]
    },
    {
      "cell_type": "markdown",
      "metadata": {
        "id": "WgZAilNw-EnA"
      },
      "source": [
        "# Splitting dataset into the Train / Test set"
      ]
    },
    {
      "cell_type": "code",
      "metadata": {
        "id": "72qHTAKk92Pk"
      },
      "source": [
        "from sklearn.model_selection import train_test_split\n",
        "\n",
        "# Splitting the whole dataset in train and test parts, \n",
        "# test_size=0.2 means 20% of training data will be used for testing \n",
        "\n",
        "X_train, X_test, y_train, y_test = train_test_split(X, y,\n",
        "                                                    test_size=0.2,\n",
        "                                                    random_state=0) "
      ],
      "execution_count": null,
      "outputs": []
    },
    {
      "cell_type": "code",
      "metadata": {
        "colab": {
          "base_uri": "https://localhost:8080/"
        },
        "id": "R89bm_ti-YrL",
        "outputId": "2d1b8254-df60-4b86-f5e6-8654e1cc51d6"
      },
      "source": [
        "X_train.shape, X_test.shape # Shape of the train and test set"
      ],
      "execution_count": null,
      "outputs": [
        {
          "output_type": "execute_result",
          "data": {
            "text/plain": [
              "((24, 1), (6, 1))"
            ]
          },
          "metadata": {
            "tags": []
          },
          "execution_count": 5
        }
      ]
    },
    {
      "cell_type": "markdown",
      "metadata": {
        "id": "ugfBSwTn-822"
      },
      "source": [
        "# Training Simple Linear Regression model on the training set"
      ]
    },
    {
      "cell_type": "code",
      "metadata": {
        "colab": {
          "base_uri": "https://localhost:8080/"
        },
        "id": "fd4dSi---7xg",
        "outputId": "08cd815c-b695-4a09-991b-524667d57898"
      },
      "source": [
        "from sklearn.linear_model import LinearRegression\n",
        "regressor = LinearRegression() # Creating a object of LinearRegression class \n",
        "\n",
        "#Fitting the model to train set (Training)\n",
        "regressor.fit(X_train, y_train)"
      ],
      "execution_count": null,
      "outputs": [
        {
          "output_type": "execute_result",
          "data": {
            "text/plain": [
              "LinearRegression(copy_X=True, fit_intercept=True, n_jobs=None, normalize=False)"
            ]
          },
          "metadata": {
            "tags": []
          },
          "execution_count": 6
        }
      ]
    },
    {
      "cell_type": "markdown",
      "metadata": {
        "id": "7PrULJM8Au3q"
      },
      "source": [
        "# Predicting on test set"
      ]
    },
    {
      "cell_type": "code",
      "metadata": {
        "colab": {
          "base_uri": "https://localhost:8080/"
        },
        "id": "i2I5yM4WATKT",
        "outputId": "4aae7444-fe1d-4b90-8a51-afc946b549cc"
      },
      "source": [
        "# predict() method is used to get the prediction from the model\n",
        "# it takes test data as an input parameter\n",
        "predictions = regressor.predict(X_test)\n",
        "print(predictions) "
      ],
      "execution_count": null,
      "outputs": [
        {
          "output_type": "stream",
          "text": [
            "[ 40748.96184072 122699.62295594  64961.65717022  63099.14214487\n",
            " 115249.56285456 107799.50275317]\n"
          ],
          "name": "stdout"
        }
      ]
    },
    {
      "cell_type": "markdown",
      "metadata": {
        "id": "IQP4YvfZBd_0"
      },
      "source": [
        "# Visualising the training set results"
      ]
    },
    {
      "cell_type": "code",
      "metadata": {
        "colab": {
          "base_uri": "https://localhost:8080/",
          "height": 295
        },
        "id": "I9rNDQAUBRU8",
        "outputId": "a0153721-ef6e-430d-b9cd-9b803698378f"
      },
      "source": [
        "plt.scatter(X_train, y_train, color='r')\n",
        "plt.plot(X_train, regressor.predict(X_train), color='b')\n",
        "plt.title('Salary vs Experience(Training)')\n",
        "plt.xlabel('Years of Experience')\n",
        "plt.ylabel('Salary')\n",
        "plt.show();"
      ],
      "execution_count": null,
      "outputs": [
        {
          "output_type": "display_data",
          "data": {
            "image/png": "[encoded data removed]",
            "text/plain": [
              "<Figure size 432x288 with 1 Axes>"
            ]
          },
          "metadata": {
            "tags": [],
            "needs_background": "light"
          }
        }
      ]
    },
    {
      "cell_type": "markdown",
      "metadata": {
        "id": "A7SAw_T-CcHH"
      },
      "source": [
        "# Visualising the Test set results"
      ]
    },
    {
      "cell_type": "code",
      "metadata": {
        "colab": {
          "base_uri": "https://localhost:8080/",
          "height": 295
        },
        "id": "N1nDlr09CbIu",
        "outputId": "e31dc5c8-e5b3-4ce9-b6a3-911cd76ceffe"
      },
      "source": [
        "plt.scatter(X_test, y_test, color='r')\n",
        "plt.plot(X_train, regressor.predict(X_train), color='b')\n",
        "plt.title('Salary vs Experience(Test)')\n",
        "plt.xlabel('Years of Experience')\n",
        "plt.ylabel('Salary')\n",
        "plt.show();"
      ],
      "execution_count": null,
      "outputs": [
        {
          "output_type": "display_data",
          "data": {
            "image/png": "[encoded data removed]",
            "text/plain": [
              "<Figure size 432x288 with 1 Axes>"
            ]
          },
          "metadata": {
            "tags": [],
            "needs_background": "light"
          }
        }
      ]
    }
  ]
}