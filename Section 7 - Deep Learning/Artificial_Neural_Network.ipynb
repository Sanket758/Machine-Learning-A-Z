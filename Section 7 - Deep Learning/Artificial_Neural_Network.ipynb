{
  "nbformat": 4,
  "nbformat_minor": 0,
  "metadata": {
    "colab": {
      "name": "Artificial Neural Network.ipynb",
      "provenance": [],
      "collapsed_sections": []
    },
    "kernelspec": {
      "name": "python3",
      "display_name": "Python 3"
    }
  },
  "cells": [
    {
      "cell_type": "markdown",
      "metadata": {
        "id": "_hMRMf7-8usb"
      },
      "source": [
        "# Importing Libraries"
      ]
    },
    {
      "cell_type": "code",
      "metadata": {
        "colab": {
          "base_uri": "https://localhost:8080/",
          "height": 35
        },
        "id": "evEZ9O626S9P",
        "outputId": "b8a32ece-9e8b-4f88-f235-25186286c1a9"
      },
      "source": [
        "import numpy as np\n",
        "import pandas as pd\n",
        "import tensorflow as tf\n",
        "tf.__version__"
      ],
      "execution_count": 29,
      "outputs": [
        {
          "output_type": "execute_result",
          "data": {
            "application/vnd.google.colaboratory.intrinsic+json": {
              "type": "string"
            },
            "text/plain": [
              "'2.4.1'"
            ]
          },
          "metadata": {
            "tags": []
          },
          "execution_count": 29
        }
      ]
    },
    {
      "cell_type": "markdown",
      "metadata": {
        "id": "As1QbMEe9Wre"
      },
      "source": [
        "# Load the dataset"
      ]
    },
    {
      "cell_type": "code",
      "metadata": {
        "id": "C_--Dc5E9ZBg"
      },
      "source": [
        "df = pd.read_csv('/content/Churn_Modelling.csv')"
      ],
      "execution_count": 30,
      "outputs": []
    },
    {
      "cell_type": "code",
      "metadata": {
        "colab": {
          "base_uri": "https://localhost:8080/"
        },
        "id": "R1pmhqj69npZ",
        "outputId": "170d85a7-8c96-403a-ab23-a33f1ba9e3f1"
      },
      "source": [
        "df.columns"
      ],
      "execution_count": 31,
      "outputs": [
        {
          "output_type": "execute_result",
          "data": {
            "text/plain": [
              "Index(['RowNumber', 'CustomerId', 'Surname', 'CreditScore', 'Geography',\n",
              "       'Gender', 'Age', 'Tenure', 'Balance', 'NumOfProducts', 'HasCrCard',\n",
              "       'IsActiveMember', 'EstimatedSalary', 'Exited'],\n",
              "      dtype='object')"
            ]
          },
          "metadata": {
            "tags": []
          },
          "execution_count": 31
        }
      ]
    },
    {
      "cell_type": "code",
      "metadata": {
        "id": "DwbRKZqH9rHB"
      },
      "source": [
        "y = df.iloc[:, -1].values # take the last column \n",
        "X = df.iloc[:, 3:-1].values # take from 3 column upto last column"
      ],
      "execution_count": 32,
      "outputs": []
    },
    {
      "cell_type": "code",
      "metadata": {
        "colab": {
          "base_uri": "https://localhost:8080/"
        },
        "id": "kC9PBgZW92W4",
        "outputId": "30edb2b4-4e78-4be2-959f-b3fc46d02fb6"
      },
      "source": [
        "X.shape"
      ],
      "execution_count": 33,
      "outputs": [
        {
          "output_type": "execute_result",
          "data": {
            "text/plain": [
              "(10000, 10)"
            ]
          },
          "metadata": {
            "tags": []
          },
          "execution_count": 33
        }
      ]
    },
    {
      "cell_type": "markdown",
      "metadata": {
        "id": "mALHdBe39THL"
      },
      "source": [
        "# Data preprocessing"
      ]
    },
    {
      "cell_type": "markdown",
      "metadata": {
        "id": "c4-3vsbU-EMP"
      },
      "source": [
        "## Encode categorical data"
      ]
    },
    {
      "cell_type": "code",
      "metadata": {
        "id": "0yUTSTrf9SCz"
      },
      "source": [
        "# Label encode the gender column\n",
        "from sklearn.preprocessing import LabelEncoder\n",
        "le = LabelEncoder()\n",
        "\n",
        "# our gender column is the 3rd column\n",
        "X[:, 2] = le.fit_transform(X[:,2]) "
      ],
      "execution_count": 34,
      "outputs": []
    },
    {
      "cell_type": "code",
      "metadata": {
        "id": "wjv-BA-b-pdZ"
      },
      "source": [
        "# One hot encode geography column\n",
        "from sklearn.compose import ColumnTransformer\n",
        "from sklearn.preprocessing import OneHotEncoder\n",
        "ct = ColumnTransformer(transformers=[('encoder', OneHotEncoder(), [1])], \n",
        "                       remainder='passthrough')\n",
        "X = np.array(ct.fit_transform(X))"
      ],
      "execution_count": 35,
      "outputs": []
    },
    {
      "cell_type": "code",
      "metadata": {
        "colab": {
          "base_uri": "https://localhost:8080/"
        },
        "id": "EgCDxmSb_oyr",
        "outputId": "c12a52bf-c71d-4e6e-b3ae-ac84c2c641e4"
      },
      "source": [
        "X"
      ],
      "execution_count": 36,
      "outputs": [
        {
          "output_type": "execute_result",
          "data": {
            "text/plain": [
              "array([[1.0, 0.0, 0.0, ..., 1, 1, 101348.88],\n",
              "       [0.0, 0.0, 1.0, ..., 0, 1, 112542.58],\n",
              "       [1.0, 0.0, 0.0, ..., 1, 0, 113931.57],\n",
              "       ...,\n",
              "       [1.0, 0.0, 0.0, ..., 0, 1, 42085.58],\n",
              "       [0.0, 1.0, 0.0, ..., 1, 0, 92888.52],\n",
              "       [1.0, 0.0, 0.0, ..., 1, 0, 38190.78]], dtype=object)"
            ]
          },
          "metadata": {
            "tags": []
          },
          "execution_count": 36
        }
      ]
    },
    {
      "cell_type": "markdown",
      "metadata": {
        "id": "JUNFACue_7Hi"
      },
      "source": [
        "# Splitting the dataset into the training and testing set"
      ]
    },
    {
      "cell_type": "code",
      "metadata": {
        "id": "rrrQwU3c_sLs"
      },
      "source": [
        "from sklearn.model_selection import train_test_split\n",
        "X_train, X_test, y_train, y_test = train_test_split(X, y, random_state=0)"
      ],
      "execution_count": 37,
      "outputs": []
    },
    {
      "cell_type": "markdown",
      "metadata": {
        "id": "JXkzJS5VAZUa"
      },
      "source": [
        "# Feature Scaling"
      ]
    },
    {
      "cell_type": "code",
      "metadata": {
        "id": "SshJ7lCsAYUS"
      },
      "source": [
        "from sklearn.preprocessing import StandardScaler\n",
        "sc = StandardScaler()\n",
        "X_train = sc.fit_transform(X_train)\n",
        "X_test = sc.transform(X_test)"
      ],
      "execution_count": 38,
      "outputs": []
    },
    {
      "cell_type": "markdown",
      "metadata": {
        "id": "2oC4IH7EDGhn"
      },
      "source": [
        "# Building Neural Network"
      ]
    },
    {
      "cell_type": "markdown",
      "metadata": {
        "id": "DKy798xmDKOK"
      },
      "source": [
        "## Initialize ANN"
      ]
    },
    {
      "cell_type": "code",
      "metadata": {
        "id": "y2htw4L-AxcJ"
      },
      "source": [
        "ann_model = tf.keras.models.Sequential()"
      ],
      "execution_count": 39,
      "outputs": []
    },
    {
      "cell_type": "markdown",
      "metadata": {
        "id": "bdigEStfDanF"
      },
      "source": [
        "## Adding the first hidden layer"
      ]
    },
    {
      "cell_type": "code",
      "metadata": {
        "id": "IHgmFWT_DZ--"
      },
      "source": [
        "ann_model.add(tf.keras.layers.Dense(6, activation='relu'))"
      ],
      "execution_count": 40,
      "outputs": []
    },
    {
      "cell_type": "markdown",
      "metadata": {
        "id": "8NIXBoETDrLn"
      },
      "source": [
        "# Adding second hidden layer"
      ]
    },
    {
      "cell_type": "code",
      "metadata": {
        "id": "Ki_RcgrHDqCO"
      },
      "source": [
        "ann_model.add(tf.keras.layers.Dense(6, activation='relu'))"
      ],
      "execution_count": 41,
      "outputs": []
    },
    {
      "cell_type": "markdown",
      "metadata": {
        "id": "EXF5NJVuD0UO"
      },
      "source": [
        "# Adding output layer"
      ]
    },
    {
      "cell_type": "code",
      "metadata": {
        "id": "yESIusVfDz4b"
      },
      "source": [
        "ann_model.add(tf.keras.layers.Dense(1, activation='sigmoid'))  "
      ],
      "execution_count": 42,
      "outputs": []
    },
    {
      "cell_type": "markdown",
      "metadata": {
        "id": "CFjsut96ErsC"
      },
      "source": [
        "# Training the ANN model"
      ]
    },
    {
      "cell_type": "markdown",
      "metadata": {
        "id": "DCQzJmHlFAPd"
      },
      "source": [
        "## Compile the model"
      ]
    },
    {
      "cell_type": "code",
      "metadata": {
        "id": "1sU4Lnb8D6DB"
      },
      "source": [
        "ann_model.compile(optimizer='adam',\n",
        "            loss='binary_crossentropy',\n",
        "            metrics=['accuracy'])"
      ],
      "execution_count": 43,
      "outputs": []
    },
    {
      "cell_type": "markdown",
      "metadata": {
        "id": "NZi-Yh9bGCs9"
      },
      "source": [
        "## Fit(train) the model"
      ]
    },
    {
      "cell_type": "code",
      "metadata": {
        "colab": {
          "base_uri": "https://localhost:8080/"
        },
        "id": "rTa2B-7-F-h7",
        "outputId": "de8b304b-fa68-4162-cc46-0658bf31aec0"
      },
      "source": [
        "ann_model.fit(X_train, y_train,\n",
        "              batch_size=32, \n",
        "              epochs=25)"
      ],
      "execution_count": 44,
      "outputs": [
        {
          "output_type": "stream",
          "text": [
            "Epoch 1/25\n",
            "235/235 [==============================] - 1s 1ms/step - loss: 0.5513 - accuracy: 0.7906\n",
            "Epoch 2/25\n",
            "235/235 [==============================] - 0s 1ms/step - loss: 0.4859 - accuracy: 0.7933\n",
            "Epoch 3/25\n",
            "235/235 [==============================] - 0s 1ms/step - loss: 0.4600 - accuracy: 0.7962\n",
            "Epoch 4/25\n",
            "235/235 [==============================] - 0s 1ms/step - loss: 0.4362 - accuracy: 0.7989\n",
            "Epoch 5/25\n",
            "235/235 [==============================] - 0s 1ms/step - loss: 0.4404 - accuracy: 0.7921\n",
            "Epoch 6/25\n",
            "235/235 [==============================] - 0s 1ms/step - loss: 0.4267 - accuracy: 0.7991\n",
            "Epoch 7/25\n",
            "235/235 [==============================] - 0s 1ms/step - loss: 0.4284 - accuracy: 0.8047\n",
            "Epoch 8/25\n",
            "235/235 [==============================] - 0s 1ms/step - loss: 0.4288 - accuracy: 0.8015\n",
            "Epoch 9/25\n",
            "235/235 [==============================] - 0s 1ms/step - loss: 0.4226 - accuracy: 0.8076\n",
            "Epoch 10/25\n",
            "235/235 [==============================] - 0s 1ms/step - loss: 0.4320 - accuracy: 0.8083\n",
            "Epoch 11/25\n",
            "235/235 [==============================] - 0s 1ms/step - loss: 0.4104 - accuracy: 0.8207\n",
            "Epoch 12/25\n",
            "235/235 [==============================] - 0s 1ms/step - loss: 0.4176 - accuracy: 0.8127\n",
            "Epoch 13/25\n",
            "235/235 [==============================] - 0s 1ms/step - loss: 0.4058 - accuracy: 0.8183\n",
            "Epoch 14/25\n",
            "235/235 [==============================] - 0s 1ms/step - loss: 0.3994 - accuracy: 0.8306\n",
            "Epoch 15/25\n",
            "235/235 [==============================] - 0s 1ms/step - loss: 0.4040 - accuracy: 0.8227\n",
            "Epoch 16/25\n",
            "235/235 [==============================] - 0s 1ms/step - loss: 0.3919 - accuracy: 0.8357\n",
            "Epoch 17/25\n",
            "235/235 [==============================] - 0s 1ms/step - loss: 0.3851 - accuracy: 0.8392\n",
            "Epoch 18/25\n",
            "235/235 [==============================] - 0s 1ms/step - loss: 0.3708 - accuracy: 0.8467\n",
            "Epoch 19/25\n",
            "235/235 [==============================] - 0s 1ms/step - loss: 0.3735 - accuracy: 0.8511\n",
            "Epoch 20/25\n",
            "235/235 [==============================] - 0s 1ms/step - loss: 0.3654 - accuracy: 0.8531\n",
            "Epoch 21/25\n",
            "235/235 [==============================] - 0s 1ms/step - loss: 0.3650 - accuracy: 0.8508\n",
            "Epoch 22/25\n",
            "235/235 [==============================] - 0s 1ms/step - loss: 0.3681 - accuracy: 0.8519\n",
            "Epoch 23/25\n",
            "235/235 [==============================] - 0s 1ms/step - loss: 0.3608 - accuracy: 0.8540\n",
            "Epoch 24/25\n",
            "235/235 [==============================] - 0s 1ms/step - loss: 0.3606 - accuracy: 0.8611\n",
            "Epoch 25/25\n",
            "235/235 [==============================] - 0s 1ms/step - loss: 0.3538 - accuracy: 0.8590\n"
          ],
          "name": "stdout"
        },
        {
          "output_type": "execute_result",
          "data": {
            "text/plain": [
              "<tensorflow.python.keras.callbacks.History at 0x7f68c6879198>"
            ]
          },
          "metadata": {
            "tags": []
          },
          "execution_count": 44
        }
      ]
    },
    {
      "cell_type": "markdown",
      "metadata": {
        "id": "VQktjTDhHEe5"
      },
      "source": [
        "# Make Predictions and evaluating the model"
      ]
    },
    {
      "cell_type": "markdown",
      "metadata": {
        "id": "LOo3k9diHJSa"
      },
      "source": [
        "# Making prediction on a single datapoint"
      ]
    },
    {
      "cell_type": "markdown",
      "metadata": {
        "id": "waMrIpUnHOkL"
      },
      "source": [
        "Geography: France  \n",
        "Credit Score: 600  \n",
        "Gender: Male  \n",
        "Age: 40 yrs  \n",
        "Tenure: 3yrs   \n",
        "Balance: $ 60000  \n",
        "\n",
        "Number of Products: 2  \n",
        "Has credit card: yes  \n",
        "Is active: yes  \n",
        "Estimated salary: $50000 "
      ]
    },
    {
      "cell_type": "code",
      "metadata": {
        "colab": {
          "base_uri": "https://localhost:8080/"
        },
        "id": "ZN7HeJb5GXzh",
        "outputId": "90b435dd-3587-41e5-eabe-21c00ede8e9b"
      },
      "source": [
        "test1 = [600, 'France', 'Male', 40, 3, 60000, 2, 1, 1, 5000]\n",
        "test1[2] = le.transform([test1[2]])\n",
        "test = np.array(ct.transform([test1]))\n",
        "test"
      ],
      "execution_count": 54,
      "outputs": [
        {
          "output_type": "execute_result",
          "data": {
            "text/plain": [
              "array([[1.0, 0.0, 0.0, 600, array([1]), 40, 3, 60000, 2, 1, 1, 5000]],\n",
              "      dtype=object)"
            ]
          },
          "metadata": {
            "tags": []
          },
          "execution_count": 54
        }
      ]
    },
    {
      "cell_type": "code",
      "metadata": {
        "id": "Q6gTz6kHJDAC"
      },
      "source": [
        "# Apply the same transformation \n",
        "test = sc.transform(test)"
      ],
      "execution_count": 55,
      "outputs": []
    },
    {
      "cell_type": "code",
      "metadata": {
        "colab": {
          "base_uri": "https://localhost:8080/"
        },
        "id": "l1yUJW1ALCuP",
        "outputId": "b110f06d-2b11-46ba-dca5-e43d5e5b9221"
      },
      "source": [
        "test"
      ],
      "execution_count": 57,
      "outputs": [
        {
          "output_type": "execute_result",
          "data": {
            "text/plain": [
              "array([[ 0.98465111, -0.56811207, -0.57468161, -0.51937478,  0.91974271,\n",
              "         0.11067641, -0.68335613, -0.24998937,  0.80424154,  0.64365658,\n",
              "         0.96668786, -1.6552634 ]])"
            ]
          },
          "metadata": {
            "tags": []
          },
          "execution_count": 57
        }
      ]
    },
    {
      "cell_type": "code",
      "metadata": {
        "colab": {
          "base_uri": "https://localhost:8080/"
        },
        "id": "gAqlMrG2KIXr",
        "outputId": "a5e91174-e25d-4c73-d30d-45a00c35418e"
      },
      "source": [
        "ann_model.predict(test)"
      ],
      "execution_count": 58,
      "outputs": [
        {
          "output_type": "stream",
          "text": [
            "/usr/local/lib/python3.6/dist-packages/tensorflow/python/keras/engine/sequential.py:450: UserWarning: `model.predict_classes()` is deprecated and will be removed after 2021-01-01. Please use instead:* `np.argmax(model.predict(x), axis=-1)`,   if your model does multi-class classification   (e.g. if it uses a `softmax` last-layer activation).* `(model.predict(x) > 0.5).astype(\"int32\")`,   if your model does binary classification   (e.g. if it uses a `sigmoid` last-layer activation).\n",
            "  warnings.warn('`model.predict_classes()` is deprecated and '\n"
          ],
          "name": "stderr"
        },
        {
          "output_type": "execute_result",
          "data": {
            "text/plain": [
              "array([[0]], dtype=int32)"
            ]
          },
          "metadata": {
            "tags": []
          },
          "execution_count": 58
        }
      ]
    },
    {
      "cell_type": "markdown",
      "metadata": {
        "id": "pRLFoY-vLliO"
      },
      "source": [
        "predict method will return the probaility value because we have uses sigmoind activation in the final layer"
      ]
    },
    {
      "cell_type": "code",
      "metadata": {
        "colab": {
          "base_uri": "https://localhost:8080/"
        },
        "id": "H1KVuaqIKLXl",
        "outputId": "807def12-0c13-4fda-805c-2ccec58c114c"
      },
      "source": [
        "ann_model.predict_classes(test)"
      ],
      "execution_count": 59,
      "outputs": [
        {
          "output_type": "stream",
          "text": [
            "/usr/local/lib/python3.6/dist-packages/tensorflow/python/keras/engine/sequential.py:450: UserWarning: `model.predict_classes()` is deprecated and will be removed after 2021-01-01. Please use instead:* `np.argmax(model.predict(x), axis=-1)`,   if your model does multi-class classification   (e.g. if it uses a `softmax` last-layer activation).* `(model.predict(x) > 0.5).astype(\"int32\")`,   if your model does binary classification   (e.g. if it uses a `sigmoid` last-layer activation).\n",
            "  warnings.warn('`model.predict_classes()` is deprecated and '\n"
          ],
          "name": "stderr"
        },
        {
          "output_type": "execute_result",
          "data": {
            "text/plain": [
              "array([[0]], dtype=int32)"
            ]
          },
          "metadata": {
            "tags": []
          },
          "execution_count": 59
        }
      ]
    },
    {
      "cell_type": "code",
      "metadata": {
        "colab": {
          "base_uri": "https://localhost:8080/"
        },
        "id": "eE9fKyz-LXfb",
        "outputId": "c18820ab-bd47-41a2-8a7c-d442c32d786b"
      },
      "source": [
        "np.argmax(ann_model.predict(test), axis=-1)"
      ],
      "execution_count": 62,
      "outputs": [
        {
          "output_type": "execute_result",
          "data": {
            "text/plain": [
              "array([0])"
            ]
          },
          "metadata": {
            "tags": []
          },
          "execution_count": 62
        }
      ]
    },
    {
      "cell_type": "markdown",
      "metadata": {
        "id": "bIYXYzLfLxh4"
      },
      "source": [
        "# Evaluating the model"
      ]
    },
    {
      "cell_type": "code",
      "metadata": {
        "colab": {
          "base_uri": "https://localhost:8080/"
        },
        "id": "anJLbbLjLzhQ",
        "outputId": "701898c6-829d-4e2c-891d-4c62940d7eb7"
      },
      "source": [
        "_, acc = ann_model.evaluate(X_test, y_test)\n",
        "print(acc)"
      ],
      "execution_count": 64,
      "outputs": [
        {
          "output_type": "stream",
          "text": [
            "79/79 [==============================] - 0s 2ms/step - loss: 0.3521 - accuracy: 0.8576\n",
            "0.8575999736785889\n"
          ],
          "name": "stdout"
        }
      ]
    }
  ]
}