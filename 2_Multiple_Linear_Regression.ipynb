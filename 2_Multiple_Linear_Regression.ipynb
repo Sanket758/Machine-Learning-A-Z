{
  "nbformat": 4,
  "nbformat_minor": 0,
  "metadata": {
    "colab": {
      "name": "2 Multiple Linear Regression.ipynb",
      "provenance": [],
      "authorship_tag": "ABX9TyNnixoAYgenYHlN1O0IbU8c",
      "include_colab_link": true
    },
    "kernelspec": {
      "name": "python3",
      "display_name": "Python 3"
    },
    "accelerator": "GPU"
  },
  "cells": [
    {
      "cell_type": "markdown",
      "metadata": {
        "id": "view-in-github",
        "colab_type": "text"
      },
      "source": [
        "<a href=\"https://colab.research.google.com/github/Sanket758/Machine-Learning-A-Z/blob/master/2_Multiple_Linear_Regression.ipynb\" target=\"_parent\"><img src=\"https://colab.research.google.com/assets/colab-badge.svg\" alt=\"Open In Colab\"/></a>"
      ]
    },
    {
      "cell_type": "markdown",
      "metadata": {
        "id": "XjT9FDECRErn"
      },
      "source": [
        "# Importing Libraries"
      ]
    },
    {
      "cell_type": "code",
      "metadata": {
        "id": "nnXyYEvDOh4P"
      },
      "source": [
        "import numpy as np\n",
        "import matplotlib.pyplot as plt\n",
        "import pandas as pd"
      ],
      "execution_count": 1,
      "outputs": []
    },
    {
      "cell_type": "markdown",
      "metadata": {
        "id": "xu8J-hu7RNWa"
      },
      "source": [
        "# Load Dataset"
      ]
    },
    {
      "cell_type": "code",
      "metadata": {
        "colab": {
          "base_uri": "https://localhost:8080/"
        },
        "id": "ZghTGCyxRIwU",
        "outputId": "69949591-eb38-4ce1-846c-654fa3fe45c6"
      },
      "source": [
        "dataset = pd.read_csv('/content/50_Startups.csv') # Read the csv contatining data\n",
        "X = dataset.iloc[:,:-1].values # Getting all columns except target col\n",
        "y = dataset.iloc[:,-1].values # getting target col\n",
        "X.shape, y.shape #printing the shape"
      ],
      "execution_count": 2,
      "outputs": [
        {
          "output_type": "execute_result",
          "data": {
            "text/plain": [
              "((50, 4), (50,))"
            ]
          },
          "metadata": {
            "tags": []
          },
          "execution_count": 2
        }
      ]
    },
    {
      "cell_type": "code",
      "metadata": {
        "colab": {
          "base_uri": "https://localhost:8080/"
        },
        "id": "fCSck6H4eKJU",
        "outputId": "7e27bb92-d13a-48cf-bb9d-94fde788657f"
      },
      "source": [
        "X[:10]"
      ],
      "execution_count": 3,
      "outputs": [
        {
          "output_type": "execute_result",
          "data": {
            "text/plain": [
              "array([[165349.2, 136897.8, 471784.1, 'New York'],\n",
              "       [162597.7, 151377.59, 443898.53, 'California'],\n",
              "       [153441.51, 101145.55, 407934.54, 'Florida'],\n",
              "       [144372.41, 118671.85, 383199.62, 'New York'],\n",
              "       [142107.34, 91391.77, 366168.42, 'Florida'],\n",
              "       [131876.9, 99814.71, 362861.36, 'New York'],\n",
              "       [134615.46, 147198.87, 127716.82, 'California'],\n",
              "       [130298.13, 145530.06, 323876.68, 'Florida'],\n",
              "       [120542.52, 148718.95, 311613.29, 'New York'],\n",
              "       [123334.88, 108679.17, 304981.62, 'California']], dtype=object)"
            ]
          },
          "metadata": {
            "tags": []
          },
          "execution_count": 3
        }
      ]
    },
    {
      "cell_type": "markdown",
      "metadata": {
        "id": "o5q0MeaqdT9P"
      },
      "source": [
        "# Encoding Categorical data"
      ]
    },
    {
      "cell_type": "code",
      "metadata": {
        "id": "oQTvrxHBdXqP"
      },
      "source": [
        "from sklearn.compose import ColumnTransformer\n",
        "from sklearn.preprocessing import OneHotEncoder\n",
        "# Column transformer takes the onehotencoder object and maps it over 3rd col\n",
        "ct = ColumnTransformer(transformers=[('encoder', OneHotEncoder(), [3])],\n",
        "                       remainder='passthrough')\n",
        "X = np.array(ct.fit_transform(X))"
      ],
      "execution_count": 4,
      "outputs": []
    },
    {
      "cell_type": "code",
      "metadata": {
        "colab": {
          "base_uri": "https://localhost:8080/"
        },
        "id": "q6ozGAVSenHS",
        "outputId": "d8ebb8d0-d2b6-4a5c-f7dd-559669da245b"
      },
      "source": [
        "X[:10] #State column changed to 3 different columns 0 0 1, 1 0 0, etc"
      ],
      "execution_count": 5,
      "outputs": [
        {
          "output_type": "execute_result",
          "data": {
            "text/plain": [
              "array([[0.0, 0.0, 1.0, 165349.2, 136897.8, 471784.1],\n",
              "       [1.0, 0.0, 0.0, 162597.7, 151377.59, 443898.53],\n",
              "       [0.0, 1.0, 0.0, 153441.51, 101145.55, 407934.54],\n",
              "       [0.0, 0.0, 1.0, 144372.41, 118671.85, 383199.62],\n",
              "       [0.0, 1.0, 0.0, 142107.34, 91391.77, 366168.42],\n",
              "       [0.0, 0.0, 1.0, 131876.9, 99814.71, 362861.36],\n",
              "       [1.0, 0.0, 0.0, 134615.46, 147198.87, 127716.82],\n",
              "       [0.0, 1.0, 0.0, 130298.13, 145530.06, 323876.68],\n",
              "       [0.0, 0.0, 1.0, 120542.52, 148718.95, 311613.29],\n",
              "       [1.0, 0.0, 0.0, 123334.88, 108679.17, 304981.62]], dtype=object)"
            ]
          },
          "metadata": {
            "tags": []
          },
          "execution_count": 5
        }
      ]
    },
    {
      "cell_type": "markdown",
      "metadata": {
        "id": "PRuztu0PRZOU"
      },
      "source": [
        "# Splitting Dataset in train/test set"
      ]
    },
    {
      "cell_type": "code",
      "metadata": {
        "id": "H4VDascsRWbb"
      },
      "source": [
        "from sklearn.model_selection import train_test_split\n",
        "\n",
        "# Splitting the whole dataset in train and test parts, \n",
        "# test_size=0.2 means 20% of training data will be used for testing \n",
        "\n",
        "X_train, X_test, y_train, y_test = train_test_split(X, y,\n",
        "                                                    test_size=0.2,\n",
        "                                                    random_state=0)"
      ],
      "execution_count": 6,
      "outputs": []
    },
    {
      "cell_type": "code",
      "metadata": {
        "colab": {
          "base_uri": "https://localhost:8080/"
        },
        "id": "HHwuti9lRinz",
        "outputId": "68170a63-42db-4801-c8b5-3725ed1dce97"
      },
      "source": [
        "X_train.shape, X_test.shape # Shape of the train and test set"
      ],
      "execution_count": 7,
      "outputs": [
        {
          "output_type": "execute_result",
          "data": {
            "text/plain": [
              "((40, 6), (10, 6))"
            ]
          },
          "metadata": {
            "tags": []
          },
          "execution_count": 7
        }
      ]
    },
    {
      "cell_type": "markdown",
      "metadata": {
        "id": "HE3q4b-LRlL6"
      },
      "source": [
        "# Training Multiple Linear Regression model on the training set"
      ]
    },
    {
      "cell_type": "code",
      "metadata": {
        "colab": {
          "base_uri": "https://localhost:8080/"
        },
        "id": "9Wa6R9d6Ri9b",
        "outputId": "e5eaca41-28fc-44cc-c90c-8ea94c28aca6"
      },
      "source": [
        "# import the linear regression library from scikit-learn\n",
        "from sklearn.linear_model import LinearRegression\n",
        "\n",
        "# creating lr model\n",
        "regressor = LinearRegression() \n",
        "\n",
        "# fit the lr model\n",
        "regressor.fit(X_train, y_train)"
      ],
      "execution_count": 8,
      "outputs": [
        {
          "output_type": "execute_result",
          "data": {
            "text/plain": [
              "LinearRegression(copy_X=True, fit_intercept=True, n_jobs=None, normalize=False)"
            ]
          },
          "metadata": {
            "tags": []
          },
          "execution_count": 8
        }
      ]
    },
    {
      "cell_type": "markdown",
      "metadata": {
        "id": "iRCPYpQyhqSO"
      },
      "source": [
        "# Predicting the Test Results"
      ]
    },
    {
      "cell_type": "code",
      "metadata": {
        "id": "Bt9r9d-NhoPX",
        "colab": {
          "base_uri": "https://localhost:8080/"
        },
        "outputId": "0c85d7e6-d9e9-41a9-d308-15647ffd28d1"
      },
      "source": [
        "np.set_printoptions(precision=2) # Round numeric values to 2 decimals\n",
        "\n",
        "# Getting predictions from our model\n",
        "predictions = regressor.predict(X_test)\n",
        "print(np.concatenate((predictions.reshape(len(predictions),1), y_test.reshape(len(y_test), 1)), axis=1)) "
      ],
      "execution_count": 9,
      "outputs": [
        {
          "output_type": "stream",
          "text": [
            "[[103015.2  103282.38]\n",
            " [132582.28 144259.4 ]\n",
            " [132447.74 146121.95]\n",
            " [ 71976.1   77798.83]\n",
            " [178537.48 191050.39]\n",
            " [116161.24 105008.31]\n",
            " [ 67851.69  81229.06]\n",
            " [ 98791.73  97483.56]\n",
            " [113969.44 110352.25]\n",
            " [167921.07 166187.94]]\n"
          ],
          "name": "stdout"
        }
      ]
    },
    {
      "cell_type": "code",
      "metadata": {
        "id": "x9rUodUBxznZ"
      },
      "source": [
        ""
      ],
      "execution_count": 9,
      "outputs": []
    }
  ]
}