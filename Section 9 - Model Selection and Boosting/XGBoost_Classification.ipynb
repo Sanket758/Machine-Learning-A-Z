{
  "nbformat": 4,
  "nbformat_minor": 0,
  "metadata": {
    "accelerator": "GPU",
    "colab": {
      "name": "XGBoost Classification.ipynb",
      "provenance": [],
      "collapsed_sections": []
    },
    "kernelspec": {
      "display_name": "Python 3",
      "name": "python3"
    }
  },
  "cells": [
    {
      "cell_type": "markdown",
      "metadata": {
        "id": "vbHrCgyN7xQp"
      },
      "source": [
        "#Importing the libraries"
      ]
    },
    {
      "cell_type": "code",
      "metadata": {
        "id": "fs7LkXl1b1Gg"
      },
      "source": [
        "import pandas as pd\n",
        "import numpy as np\n",
        "import matplotlib.pyplot as plt"
      ],
      "execution_count": 3,
      "outputs": []
    },
    {
      "cell_type": "markdown",
      "metadata": {
        "id": "oODfIkOV79D4"
      },
      "source": [
        "# Importing the dataset"
      ]
    },
    {
      "cell_type": "code",
      "metadata": {
        "id": "TzT-9XbktpAw",
        "colab": {
          "base_uri": "https://localhost:8080/"
        },
        "outputId": "81cf3d5a-8f8e-4698-ad2e-7af42a060128"
      },
      "source": [
        "# Read the csv contatining data\n",
        "dataset = pd.read_csv('/content/Data.csv') \n",
        "X = dataset.iloc[:,:-1].values # Getting 2nd column\n",
        "y = dataset.iloc[:,-1].values # getting last\n",
        "X.shape, y.shape #printing the shape"
      ],
      "execution_count": 4,
      "outputs": [
        {
          "output_type": "execute_result",
          "data": {
            "text/plain": [
              "((683, 10), (683,))"
            ]
          },
          "metadata": {
            "tags": []
          },
          "execution_count": 4
        }
      ]
    },
    {
      "cell_type": "markdown",
      "metadata": {
        "id": "1HDsH8SEt-Kw"
      },
      "source": [
        "# Splitting Dataset into Train and Test set"
      ]
    },
    {
      "cell_type": "code",
      "metadata": {
        "id": "bvlBgHofuEWf"
      },
      "source": [
        "from sklearn.model_selection import train_test_split\n",
        "X_train, X_test, y_train, y_test = train_test_split(X, y, test_size=0.2,\n",
        "                                                    shuffle=True, \n",
        "                                                    random_state=0)"
      ],
      "execution_count": 5,
      "outputs": []
    },
    {
      "cell_type": "markdown",
      "metadata": {
        "id": "0zZvvawg81Iv"
      },
      "source": [
        "# Training the XGBoost Classification Model"
      ]
    },
    {
      "cell_type": "code",
      "metadata": {
        "id": "TC0uv0r3rzIL",
        "colab": {
          "base_uri": "https://localhost:8080/"
        },
        "outputId": "08dd4380-ff4f-43a3-a75c-74667a161a15"
      },
      "source": [
        "from xgboost import XGBClassifier\n",
        "clf = XGBClassifier()\n",
        "clf.fit(X_train, y_train)"
      ],
      "execution_count": 6,
      "outputs": [
        {
          "output_type": "execute_result",
          "data": {
            "text/plain": [
              "XGBClassifier(base_score=0.5, booster='gbtree', colsample_bylevel=1,\n",
              "              colsample_bynode=1, colsample_bytree=1, gamma=0,\n",
              "              learning_rate=0.1, max_delta_step=0, max_depth=3,\n",
              "              min_child_weight=1, missing=None, n_estimators=100, n_jobs=1,\n",
              "              nthread=None, objective='binary:logistic', random_state=0,\n",
              "              reg_alpha=0, reg_lambda=1, scale_pos_weight=1, seed=None,\n",
              "              silent=None, subsample=1, verbosity=1)"
            ]
          },
          "metadata": {
            "tags": []
          },
          "execution_count": 6
        }
      ]
    },
    {
      "cell_type": "markdown",
      "metadata": {
        "id": "yNb00d-M6dtr"
      },
      "source": [
        "# Predicting the test set result"
      ]
    },
    {
      "cell_type": "code",
      "metadata": {
        "id": "3x5R9w4s4shI",
        "colab": {
          "base_uri": "https://localhost:8080/"
        },
        "outputId": "65955474-a9f2-4170-c3ef-60af392be9e1"
      },
      "source": [
        "y_hat = clf.predict(X_test)\n",
        "print(np.concatenate((y_hat.reshape(len(y_hat), 1),\n",
        "                      y_test.reshape(len(y_test), 1)), 1))"
      ],
      "execution_count": 7,
      "outputs": [
        {
          "output_type": "stream",
          "text": [
            "[[2 2]\n",
            " [2 2]\n",
            " [4 4]\n",
            " [4 4]\n",
            " [2 2]\n",
            " [2 2]\n",
            " [2 2]\n",
            " [4 4]\n",
            " [2 2]\n",
            " [2 2]\n",
            " [4 4]\n",
            " [2 2]\n",
            " [4 4]\n",
            " [2 2]\n",
            " [2 2]\n",
            " [2 2]\n",
            " [4 4]\n",
            " [4 4]\n",
            " [4 4]\n",
            " [2 2]\n",
            " [2 2]\n",
            " [2 2]\n",
            " [4 4]\n",
            " [2 2]\n",
            " [4 4]\n",
            " [4 4]\n",
            " [2 2]\n",
            " [2 2]\n",
            " [2 2]\n",
            " [4 4]\n",
            " [2 2]\n",
            " [4 4]\n",
            " [4 4]\n",
            " [2 2]\n",
            " [2 2]\n",
            " [2 2]\n",
            " [4 4]\n",
            " [4 4]\n",
            " [2 2]\n",
            " [4 4]\n",
            " [2 2]\n",
            " [2 2]\n",
            " [2 2]\n",
            " [2 2]\n",
            " [2 2]\n",
            " [2 2]\n",
            " [2 2]\n",
            " [4 4]\n",
            " [2 2]\n",
            " [2 2]\n",
            " [4 4]\n",
            " [2 2]\n",
            " [4 4]\n",
            " [2 2]\n",
            " [2 2]\n",
            " [2 2]\n",
            " [4 4]\n",
            " [4 2]\n",
            " [2 2]\n",
            " [4 4]\n",
            " [2 2]\n",
            " [2 2]\n",
            " [2 2]\n",
            " [2 2]\n",
            " [2 2]\n",
            " [2 2]\n",
            " [2 2]\n",
            " [2 2]\n",
            " [4 4]\n",
            " [4 4]\n",
            " [2 2]\n",
            " [2 2]\n",
            " [2 2]\n",
            " [2 2]\n",
            " [2 2]\n",
            " [2 2]\n",
            " [4 4]\n",
            " [2 2]\n",
            " [2 2]\n",
            " [2 2]\n",
            " [4 4]\n",
            " [2 2]\n",
            " [4 4]\n",
            " [2 2]\n",
            " [2 2]\n",
            " [4 4]\n",
            " [2 2]\n",
            " [4 2]\n",
            " [4 4]\n",
            " [2 2]\n",
            " [4 4]\n",
            " [2 2]\n",
            " [4 4]\n",
            " [4 4]\n",
            " [4 4]\n",
            " [4 2]\n",
            " [4 4]\n",
            " [4 4]\n",
            " [4 4]\n",
            " [2 2]\n",
            " [2 2]\n",
            " [2 2]\n",
            " [4 4]\n",
            " [4 4]\n",
            " [2 2]\n",
            " [2 2]\n",
            " [4 4]\n",
            " [4 4]\n",
            " [2 2]\n",
            " [2 2]\n",
            " [4 4]\n",
            " [2 2]\n",
            " [2 2]\n",
            " [4 4]\n",
            " [2 2]\n",
            " [2 2]\n",
            " [2 2]\n",
            " [4 4]\n",
            " [2 2]\n",
            " [2 2]\n",
            " [2 2]\n",
            " [4 4]\n",
            " [2 2]\n",
            " [2 2]\n",
            " [4 4]\n",
            " [4 4]\n",
            " [2 2]\n",
            " [4 4]\n",
            " [2 2]\n",
            " [4 4]\n",
            " [2 2]\n",
            " [2 2]\n",
            " [4 4]\n",
            " [2 2]\n",
            " [2 2]\n",
            " [4 4]\n",
            " [2 2]]\n"
          ],
          "name": "stdout"
        }
      ]
    },
    {
      "cell_type": "markdown",
      "metadata": {
        "id": "fYLm5wyzX_Qo"
      },
      "source": [
        "# Measure the performance of classification model using K-Fold Cross validation"
      ]
    },
    {
      "cell_type": "code",
      "metadata": {
        "id": "WfGl6w3cYHEd",
        "colab": {
          "base_uri": "https://localhost:8080/"
        },
        "outputId": "be578382-bcf5-44ae-9754-a3b05e6e0513"
      },
      "source": [
        "from sklearn.model_selection import cross_val_score\n",
        "accuracies = cross_val_score(estimator=clf, X=X_train, y=y_train, cv=10)\n",
        "print(f'Accuracy: {round(accuracies.mean()*100, 2)}%')\n",
        "print(f'Standard Deviation: {round(accuracies.std()*100, 2)} %')"
      ],
      "execution_count": 8,
      "outputs": [
        {
          "output_type": "stream",
          "text": [
            "Accuracy: 96.53%\n",
            "Standard Deviation: 2.07 %\n"
          ],
          "name": "stdout"
        }
      ]
    },
    {
      "cell_type": "markdown",
      "metadata": {
        "id": "X_FyV7e-7LAV"
      },
      "source": [
        "# Making the confusion matrix"
      ]
    },
    {
      "cell_type": "code",
      "metadata": {
        "id": "nup-zLc76-0V",
        "colab": {
          "base_uri": "https://localhost:8080/"
        },
        "outputId": "959d2617-089d-471b-da65-d0a1b28ff6ec"
      },
      "source": [
        "from sklearn.metrics import confusion_matrix\n",
        "print(confusion_matrix(y_test, y_hat))"
      ],
      "execution_count": 9,
      "outputs": [
        {
          "output_type": "stream",
          "text": [
            "[[84  3]\n",
            " [ 0 50]]\n"
          ],
          "name": "stdout"
        }
      ]
    },
    {
      "cell_type": "code",
      "metadata": {
        "id": "lhtR2-Pb7k10",
        "colab": {
          "base_uri": "https://localhost:8080/"
        },
        "outputId": "49620584-c4e2-4d2b-ac80-1da71d32d205"
      },
      "source": [
        "from sklearn.metrics import accuracy_score\n",
        "print(f'{accuracy_score(y_test, y_hat) * 100}%')"
      ],
      "execution_count": 10,
      "outputs": [
        {
          "output_type": "stream",
          "text": [
            "97.8102189781022%\n"
          ],
          "name": "stdout"
        }
      ]
    },
    {
      "cell_type": "markdown",
      "metadata": {
        "id": "K0kGZLFnjnzp"
      },
      "source": [
        "As you can see XGBoost has given the best accuracy "
      ]
    }
  ]
}