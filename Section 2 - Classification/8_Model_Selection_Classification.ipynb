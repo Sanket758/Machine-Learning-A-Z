{
  "nbformat": 4,
  "nbformat_minor": 0,
  "metadata": {
    "accelerator": "GPU",
    "colab": {
      "name": "7_Model_Selection_Classification.ipynb",
      "provenance": [],
      "collapsed_sections": []
    },
    "kernelspec": {
      "display_name": "Python 3",
      "name": "python3"
    }
  },
  "cells": [
    {
      "cell_type": "markdown",
      "metadata": {
        "id": "vbHrCgyN7xQp"
      },
      "source": [
        "#Importing the libraries"
      ]
    },
    {
      "cell_type": "code",
      "metadata": {
        "id": "fs7LkXl1b1Gg"
      },
      "source": [
        "import pandas as pd\n",
        "import numpy as np\n",
        "import matplotlib.pyplot as plt"
      ],
      "execution_count": 39,
      "outputs": []
    },
    {
      "cell_type": "markdown",
      "metadata": {
        "id": "oODfIkOV79D4"
      },
      "source": [
        "# Importing the dataset"
      ]
    },
    {
      "cell_type": "code",
      "metadata": {
        "colab": {
          "base_uri": "https://localhost:8080/"
        },
        "id": "TzT-9XbktpAw",
        "outputId": "b0dee93c-e690-411a-9cda-8b7938b173ca"
      },
      "source": [
        "# Read the csv contatining data\n",
        "dataset = pd.read_csv('/content/Data.csv') \n",
        "X = dataset.iloc[:,1:-1].values # Getting Feature columns\n",
        "y = dataset.iloc[:,-1].values # getting last column\n",
        "X.shape, y.shape #printing the shape"
      ],
      "execution_count": 40,
      "outputs": [
        {
          "output_type": "execute_result",
          "data": {
            "text/plain": [
              "((683, 9), (683,))"
            ]
          },
          "metadata": {
            "tags": []
          },
          "execution_count": 40
        }
      ]
    },
    {
      "cell_type": "markdown",
      "metadata": {
        "id": "1HDsH8SEt-Kw"
      },
      "source": [
        "# Splitting Dataset into Train and Test set"
      ]
    },
    {
      "cell_type": "code",
      "metadata": {
        "id": "bvlBgHofuEWf"
      },
      "source": [
        "from sklearn.model_selection import train_test_split\n",
        "X_train, X_test, y_train, y_test = train_test_split(X, y, test_size=0.25,\n",
        "                                                    random_state=0)"
      ],
      "execution_count": 41,
      "outputs": []
    },
    {
      "cell_type": "markdown",
      "metadata": {
        "id": "P9UPd6bouXHN"
      },
      "source": [
        "# Feature Scaling"
      ]
    },
    {
      "cell_type": "code",
      "metadata": {
        "id": "8X8izAbeuWQq"
      },
      "source": [
        "from sklearn.preprocessing import StandardScaler\n",
        "sc = StandardScaler()\n",
        "\n",
        "X_train_scaled = sc.fit_transform(X_train)\n",
        "X_test_scaled = sc.transform(X_test)"
      ],
      "execution_count": 42,
      "outputs": []
    },
    {
      "cell_type": "code",
      "metadata": {
        "colab": {
          "base_uri": "https://localhost:8080/"
        },
        "id": "3kzpOCgEx0q0",
        "outputId": "6c645bf4-8a4f-4b43-a5ba-5e55a34f6274"
      },
      "source": [
        "X_train_scaled[:10]"
      ],
      "execution_count": 43,
      "outputs": [
        {
          "output_type": "execute_result",
          "data": {
            "text/plain": [
              "array([[ 0.91903747,  0.9407658 ,  2.30881719,  0.77265864, -0.10307335,\n",
              "         1.80910082,  2.22576767,  2.27129602,  0.24623928],\n",
              "       [ 1.27578287, -0.04290763,  1.63138773,  0.06811505,  0.3404019 ,\n",
              "         1.53244024,  1.82407819,  1.94996317,  3.74830911],\n",
              "       [ 1.27578287,  2.25233038,  2.30881719,  2.53401762,  1.22735239,\n",
              "         1.80910082,  2.62745714,  2.27129602, -0.33743902],\n",
              "       [-1.22143494, -0.69868992, -0.73961536, -0.63642854, -0.5465486 ,\n",
              "        -0.68084439, -0.98774815, -0.62069958, -0.33743902],\n",
              "       [-1.22143494, -0.69868992, -0.06218591, -0.63642854, -0.99002384,\n",
              "        -0.68084439, -0.58605867, -0.62069958, -0.33743902],\n",
              "       [-1.22143494, -0.69868992, -0.73961536, -0.63642854, -0.5465486 ,\n",
              "        -0.68084439, -0.98774815, -0.62069958, -0.33743902],\n",
              "       [ 0.20554667,  0.9407658 ,  0.95395828, -0.28415674,  0.3404019 ,\n",
              "         1.80910082, -0.18436919,  0.98596464, -0.33743902],\n",
              "       [-0.50794414, -0.69868992, -0.73961536, -0.63642854, -0.5465486 ,\n",
              "        -0.68084439, -0.58605867, -0.62069958, -0.33743902],\n",
              "       [-0.86468954, -0.69868992, -0.06218591, -0.28415674, -0.5465486 ,\n",
              "        -0.68084439, -0.58605867, -0.62069958, -0.33743902],\n",
              "       [-0.15119873,  0.9407658 ,  0.95395828,  0.77265864,  1.67082764,\n",
              "         0.7024585 ,  1.42238871,  1.30729749,  0.82991759]])"
            ]
          },
          "metadata": {
            "tags": []
          },
          "execution_count": 43
        }
      ]
    },
    {
      "cell_type": "code",
      "metadata": {
        "colab": {
          "base_uri": "https://localhost:8080/"
        },
        "id": "Vrs-ft9Ex4wR",
        "outputId": "1a0e3604-0bf9-4457-dac5-6bf6f8ccbd91"
      },
      "source": [
        "y_train[:10]"
      ],
      "execution_count": 44,
      "outputs": [
        {
          "output_type": "execute_result",
          "data": {
            "text/plain": [
              "array([4, 4, 4, 2, 2, 2, 4, 2, 2, 4])"
            ]
          },
          "metadata": {
            "tags": []
          },
          "execution_count": 44
        }
      ]
    },
    {
      "cell_type": "markdown",
      "metadata": {
        "id": "0zZvvawg81Iv"
      },
      "source": [
        "# Training All Classification Model"
      ]
    },
    {
      "cell_type": "code",
      "metadata": {
        "id": "s8qAwnEfBE44"
      },
      "source": [
        "from sklearn.linear_model import LogisticRegression\n",
        "from sklearn.neighbors import KNeighborsClassifier\n",
        "from sklearn.svm import SVC\n",
        "from sklearn.naive_bayes import GaussianNB\n",
        "from sklearn.tree import DecisionTreeClassifier\n",
        "from sklearn.ensemble import RandomForestClassifier"
      ],
      "execution_count": 45,
      "outputs": []
    },
    {
      "cell_type": "code",
      "metadata": {
        "id": "77vDEKJeBHLF"
      },
      "source": [
        "lrclf = LogisticRegression()\n",
        "knnclf = KNeighborsClassifier()\n",
        "svclinclf = SVC(kernel='linear')\n",
        "svckrnclf = SVC(kernel='rbf')\n",
        "nbclf = GaussianNB()\n",
        "cartclf = DecisionTreeClassifier()\n",
        "rfclf = RandomForestClassifier(n_estimators=10, criterion='entropy', random_state=0)"
      ],
      "execution_count": 46,
      "outputs": []
    },
    {
      "cell_type": "code",
      "metadata": {
        "id": "KGkn7epIDAoO"
      },
      "source": [
        "classifiers = [lrclf,knnclf,svclinclf, svckrnclf, nbclf, cartclf, rfclf]\n",
        "names = ['Logistic Regression', \n",
        "         'KNN',\n",
        "         'Support vector machine',\n",
        "         'SVM kernalized'\n",
        "         'Naive Bayes',\n",
        "         'Decision Tree',\n",
        "         'Random Forest']"
      ],
      "execution_count": 47,
      "outputs": []
    },
    {
      "cell_type": "code",
      "metadata": {
        "id": "TC0uv0r3rzIL"
      },
      "source": [
        "def classify(clf, Classifier_Name):\n",
        "    print('='*100)\n",
        "    print()\n",
        "    print(Classifier_Name + '\\n')\n",
        "    clf.fit(X_train_scaled, y_train)\n",
        "    y_hat = clf.predict(X_test_scaled)\n",
        "    from sklearn.metrics import confusion_matrix\n",
        "    print(confusion_matrix(y_test, y_hat))\n",
        "    from sklearn.metrics import accuracy_score\n",
        "    print(f'\\nAccuracy: {accuracy_score(y_test, y_hat) * 100}%')"
      ],
      "execution_count": 48,
      "outputs": []
    },
    {
      "cell_type": "code",
      "metadata": {
        "colab": {
          "base_uri": "https://localhost:8080/"
        },
        "id": "KqK6uzfCDdBj",
        "outputId": "f17d3c7c-8f77-4c0d-b418-2ada53c37aef"
      },
      "source": [
        "for clf, name in zip(classifiers, names):\n",
        "    classify(clf, name)"
      ],
      "execution_count": 49,
      "outputs": [
        {
          "output_type": "stream",
          "text": [
            "====================================================================================================\n",
            "\n",
            "Logistic Regression\n",
            "\n",
            "[[103   4]\n",
            " [  5  59]]\n",
            "\n",
            "Accuracy: 94.73684210526315%\n",
            "====================================================================================================\n",
            "\n",
            "KNN\n",
            "\n",
            "[[103   4]\n",
            " [  5  59]]\n",
            "\n",
            "Accuracy: 94.73684210526315%\n",
            "====================================================================================================\n",
            "\n",
            "Support vector machine\n",
            "\n",
            "[[102   5]\n",
            " [  5  59]]\n",
            "\n",
            "Accuracy: 94.15204678362574%\n",
            "====================================================================================================\n",
            "\n",
            "SVM kernalizedNaive Bayes\n",
            "\n",
            "[[101   6]\n",
            " [  3  61]]\n",
            "\n",
            "Accuracy: 94.73684210526315%\n",
            "====================================================================================================\n",
            "\n",
            "Decision Tree\n",
            "\n",
            "[[99  8]\n",
            " [ 2 62]]\n",
            "\n",
            "Accuracy: 94.15204678362574%\n",
            "====================================================================================================\n",
            "\n",
            "Random Forest\n",
            "\n",
            "[[105   2]\n",
            " [  6  58]]\n",
            "\n",
            "Accuracy: 95.32163742690058%\n"
          ],
          "name": "stdout"
        }
      ]
    }
  ]
}
